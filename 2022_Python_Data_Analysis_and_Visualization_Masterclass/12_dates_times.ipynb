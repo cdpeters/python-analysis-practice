{
 "cells": [
  {
   "cell_type": "markdown",
   "id": "9ab1dde2-0b93-4199-9d5b-17320e8a8e28",
   "metadata": {},
   "source": [
    "# Section 12: Working With Dates & Times"
   ]
  },
  {
   "cell_type": "code",
   "execution_count": 1,
   "id": "369d0132-7af7-4be2-bd19-aa141344b8db",
   "metadata": {
    "tags": []
   },
   "outputs": [],
   "source": [
    "from pathlib import Path\n",
    "\n",
    "import pandas as pd"
   ]
  },
  {
   "cell_type": "code",
   "execution_count": 2,
   "id": "c47895e9-074b-45d2-8fe5-44745e2a245a",
   "metadata": {
    "tags": []
   },
   "outputs": [],
   "source": [
    "# Path to data directory\n",
    "data_dir = Path.cwd() / \"course_materials\" / \"data\""
   ]
  },
  {
   "cell_type": "code",
   "execution_count": 81,
   "id": "71b551f6-d9ce-4b4b-94b8-32b7bdc48dff",
   "metadata": {},
   "outputs": [],
   "source": [
    "####### NOTE DATAFRAME NAME CHANGES TO MATCH COURSE\n",
    "# Billboards Charts dataset\n",
    "charts_df = pd.read_csv(data_dir / \"billboard_charts.csv\", parse_dates=[\"date\"])\n",
    "\n",
    "# UFO Reports dataset\n",
    "ufos_df = pd.read_csv(data_dir / \"nuforc_reports.csv\")"
   ]
  },
  {
   "cell_type": "markdown",
   "id": "71415ebc-896f-48b5-a553-593fac12ff15",
   "metadata": {},
   "source": [
    "### Converting With pd.to_datetime()"
   ]
  },
  {
   "cell_type": "code",
   "execution_count": 4,
   "id": "183f7dc5-3c3c-4137-a35e-7b091713ac95",
   "metadata": {},
   "outputs": [
    {
     "data": {
      "text/plain": [
       "Timestamp('2019-12-31 00:00:00')"
      ]
     },
     "execution_count": 4,
     "metadata": {},
     "output_type": "execute_result"
    }
   ],
   "source": [
    "pd.to_datetime(\"2019-12-31\")"
   ]
  },
  {
   "cell_type": "code",
   "execution_count": 5,
   "id": "1ebce875-0167-4958-8503-73425a73ca95",
   "metadata": {},
   "outputs": [
    {
     "data": {
      "text/plain": [
       "DatetimeIndex(['2019-12-31 00:00:00', '2019-01-02 07:44:23',\n",
       "               '1989-04-03 00:00:00'],\n",
       "              dtype='datetime64[ns]', freq=None)"
      ]
     },
     "execution_count": 5,
     "metadata": {},
     "output_type": "execute_result"
    }
   ],
   "source": [
    "dates = [\"2019-12-31\", \"7:44:23 Jan. 2nd 2019\", \"April 3rd, 1989\"]\n",
    "pd.to_datetime(dates)"
   ]
  },
  {
   "cell_type": "markdown",
   "id": "8f150371-5273-4698-9bd2-97c7c081f355",
   "metadata": {},
   "source": [
    "### Specifying Fancy Formats With pd.to_datetime()"
   ]
  },
  {
   "cell_type": "code",
   "execution_count": 6,
   "id": "bfcf827a-9154-40b6-86ba-09559006200a",
   "metadata": {},
   "outputs": [
    {
     "data": {
      "text/plain": [
       "Timestamp('2012-10-11 00:00:00')"
      ]
     },
     "execution_count": 6,
     "metadata": {},
     "output_type": "execute_result"
    }
   ],
   "source": [
    "# Notice that the following data can be ambiguous since the reading of it\n",
    "# depends on where you're from\n",
    "pd.to_datetime(\"10/11/12\")"
   ]
  },
  {
   "cell_type": "code",
   "execution_count": 7,
   "id": "2c6741d5-e9b1-4f8f-ab77-3be90f814796",
   "metadata": {},
   "outputs": [
    {
     "data": {
      "text/plain": [
       "Timestamp('2012-11-10 00:00:00')"
      ]
     },
     "execution_count": 7,
     "metadata": {},
     "output_type": "execute_result"
    }
   ],
   "source": [
    "pd.to_datetime(\"10/11/12\", dayfirst=True)"
   ]
  },
  {
   "cell_type": "code",
   "execution_count": 8,
   "id": "1829cc6f-948e-46bc-a1ae-d8873e246c61",
   "metadata": {},
   "outputs": [
    {
     "data": {
      "text/plain": [
       "Timestamp('2010-11-12 00:00:00')"
      ]
     },
     "execution_count": 8,
     "metadata": {},
     "output_type": "execute_result"
    }
   ],
   "source": [
    "pd.to_datetime(\"10/11/12\", yearfirst=True)"
   ]
  },
  {
   "cell_type": "code",
   "execution_count": 9,
   "id": "ec0074b6-3004-4f67-9e15-4c203f3fca39",
   "metadata": {},
   "outputs": [
    {
     "data": {
      "text/plain": [
       "Timestamp('2010-12-11 00:00:00')"
      ]
     },
     "execution_count": 9,
     "metadata": {},
     "output_type": "execute_result"
    }
   ],
   "source": [
    "pd.to_datetime(\"10/11/12\", yearfirst=True, dayfirst=True)"
   ]
  },
  {
   "cell_type": "code",
   "execution_count": 10,
   "id": "3dbb5f8e-6af6-4649-8fc0-d989174f98ec",
   "metadata": {},
   "outputs": [
    {
     "data": {
      "text/plain": [
       "Timestamp('2010-11-12 00:00:00')"
      ]
     },
     "execution_count": 10,
     "metadata": {},
     "output_type": "execute_result"
    }
   ],
   "source": [
    "# Using the `format` parameter is much more powerful\n",
    "pd.to_datetime(\"10/11/12\", format=\"%y/%m/%d\")"
   ]
  },
  {
   "cell_type": "code",
   "execution_count": 11,
   "id": "c077763a-16bf-4801-b277-3c735c67cf00",
   "metadata": {},
   "outputs": [],
   "source": [
    "meetings = [\n",
    "    \"Dec 11 2019 Meeting\",\n",
    "    \"Jan 6 2020 Meeting\",\n",
    "    \"Mar 19 2020 Meeting\",\n",
    "    \"Apr 15 2020 Meeting\",\n",
    "]"
   ]
  },
  {
   "cell_type": "code",
   "execution_count": 12,
   "id": "d401e572-771a-49e1-8b64-c9545c9bee15",
   "metadata": {},
   "outputs": [
    {
     "data": {
      "text/plain": [
       "DatetimeIndex(['2019-12-11', '2020-01-06', '2020-03-19', '2020-04-15'], dtype='datetime64[ns]', freq=None)"
      ]
     },
     "execution_count": 12,
     "metadata": {},
     "output_type": "execute_result"
    }
   ],
   "source": [
    "pd.to_datetime(meetings, format=\"%b %d %Y Meeting\")"
   ]
  },
  {
   "cell_type": "markdown",
   "id": "f887c24f-e12a-49aa-92f4-641dea7a0598",
   "metadata": {},
   "source": [
    "### Dates and DataFrames"
   ]
  },
  {
   "cell_type": "code",
   "execution_count": 13,
   "id": "2d17e28d-b50b-4b0e-8d4e-2f84dec47bf7",
   "metadata": {},
   "outputs": [
    {
     "data": {
      "text/html": [
       "<div>\n",
       "<style scoped>\n",
       "    .dataframe tbody tr th:only-of-type {\n",
       "        vertical-align: middle;\n",
       "    }\n",
       "\n",
       "    .dataframe tbody tr th {\n",
       "        vertical-align: top;\n",
       "    }\n",
       "\n",
       "    .dataframe thead th {\n",
       "        text-align: right;\n",
       "    }\n",
       "</style>\n",
       "<table border=\"1\" class=\"dataframe\">\n",
       "  <thead>\n",
       "    <tr style=\"text-align: right;\">\n",
       "      <th></th>\n",
       "      <th>summary</th>\n",
       "      <th>city</th>\n",
       "      <th>state</th>\n",
       "      <th>date_time</th>\n",
       "      <th>shape</th>\n",
       "      <th>duration</th>\n",
       "      <th>stats</th>\n",
       "      <th>report_link</th>\n",
       "      <th>text</th>\n",
       "      <th>posted</th>\n",
       "      <th>city_latitude</th>\n",
       "      <th>city_longitude</th>\n",
       "    </tr>\n",
       "  </thead>\n",
       "  <tbody>\n",
       "    <tr>\n",
       "      <th>0</th>\n",
       "      <td>My wife was driving southeast on a fairly popu...</td>\n",
       "      <td>Chester</td>\n",
       "      <td>VA</td>\n",
       "      <td>2019-12-12T18:43:00</td>\n",
       "      <td>light</td>\n",
       "      <td>5 seconds</td>\n",
       "      <td>Occurred : 12/12/2019 18:43  (Entered as : 12/...</td>\n",
       "      <td>http://www.nuforc.org/webreports/151/S151739.html</td>\n",
       "      <td>My wife was driving southeast on a fairly popu...</td>\n",
       "      <td>2019-12-22T00:00:00</td>\n",
       "      <td>37.343152</td>\n",
       "      <td>-77.408582</td>\n",
       "    </tr>\n",
       "    <tr>\n",
       "      <th>1</th>\n",
       "      <td>I think that I may caught a UFO on the NBC Nig...</td>\n",
       "      <td>Rocky Hill</td>\n",
       "      <td>CT</td>\n",
       "      <td>2019-03-22T18:30:00</td>\n",
       "      <td>circle</td>\n",
       "      <td>3-5 seconds</td>\n",
       "      <td>Occurred : 3/22/2019 18:30  (Entered as : 03/2...</td>\n",
       "      <td>http://www.nuforc.org/webreports/145/S145297.html</td>\n",
       "      <td>I think that I may caught a UFO on the NBC Nig...</td>\n",
       "      <td>2019-03-29T00:00:00</td>\n",
       "      <td>41.664800</td>\n",
       "      <td>-72.639300</td>\n",
       "    </tr>\n",
       "    <tr>\n",
       "      <th>2</th>\n",
       "      <td>I woke up late in the afternoon 3:30-4pm. I we...</td>\n",
       "      <td>NaN</td>\n",
       "      <td>NaN</td>\n",
       "      <td>NaN</td>\n",
       "      <td>NaN</td>\n",
       "      <td>NaN</td>\n",
       "      <td>Occurred : 4/1/2019 15:45  (Entered as : April...</td>\n",
       "      <td>http://www.nuforc.org/webreports/145/S145556.html</td>\n",
       "      <td>I woke up late in the afternoon 3:30-4pm.  I w...</td>\n",
       "      <td>NaN</td>\n",
       "      <td>NaN</td>\n",
       "      <td>NaN</td>\n",
       "    </tr>\n",
       "  </tbody>\n",
       "</table>\n",
       "</div>"
      ],
      "text/plain": [
       "                                             summary        city state  \\\n",
       "0  My wife was driving southeast on a fairly popu...     Chester    VA   \n",
       "1  I think that I may caught a UFO on the NBC Nig...  Rocky Hill    CT   \n",
       "2  I woke up late in the afternoon 3:30-4pm. I we...         NaN   NaN   \n",
       "\n",
       "             date_time   shape     duration  \\\n",
       "0  2019-12-12T18:43:00   light    5 seconds   \n",
       "1  2019-03-22T18:30:00  circle  3-5 seconds   \n",
       "2                  NaN     NaN          NaN   \n",
       "\n",
       "                                               stats  \\\n",
       "0  Occurred : 12/12/2019 18:43  (Entered as : 12/...   \n",
       "1  Occurred : 3/22/2019 18:30  (Entered as : 03/2...   \n",
       "2  Occurred : 4/1/2019 15:45  (Entered as : April...   \n",
       "\n",
       "                                         report_link  \\\n",
       "0  http://www.nuforc.org/webreports/151/S151739.html   \n",
       "1  http://www.nuforc.org/webreports/145/S145297.html   \n",
       "2  http://www.nuforc.org/webreports/145/S145556.html   \n",
       "\n",
       "                                                text               posted  \\\n",
       "0  My wife was driving southeast on a fairly popu...  2019-12-22T00:00:00   \n",
       "1  I think that I may caught a UFO on the NBC Nig...  2019-03-29T00:00:00   \n",
       "2  I woke up late in the afternoon 3:30-4pm.  I w...                  NaN   \n",
       "\n",
       "   city_latitude  city_longitude  \n",
       "0      37.343152      -77.408582  \n",
       "1      41.664800      -72.639300  \n",
       "2            NaN             NaN  "
      ]
     },
     "execution_count": 13,
     "metadata": {},
     "output_type": "execute_result"
    }
   ],
   "source": [
    "ufos_df.head(3)"
   ]
  },
  {
   "cell_type": "code",
   "execution_count": 14,
   "id": "1e604502-b339-48fb-9a69-381c800154e4",
   "metadata": {},
   "outputs": [
    {
     "name": "stdout",
     "output_type": "stream",
     "text": [
      "<class 'pandas.core.frame.DataFrame'>\n",
      "RangeIndex: 88125 entries, 0 to 88124\n",
      "Data columns (total 12 columns):\n",
      " #   Column          Non-Null Count  Dtype  \n",
      "---  ------          --------------  -----  \n",
      " 0   summary         88095 non-null  object \n",
      " 1   city            87891 non-null  object \n",
      " 2   state           82890 non-null  object \n",
      " 3   date_time       86938 non-null  object \n",
      " 4   shape           85627 non-null  object \n",
      " 5   duration        84954 non-null  object \n",
      " 6   stats           88088 non-null  object \n",
      " 7   report_link     88125 non-null  object \n",
      " 8   text            88070 non-null  object \n",
      " 9   posted          86938 non-null  object \n",
      " 10  city_latitude   72013 non-null  float64\n",
      " 11  city_longitude  72013 non-null  float64\n",
      "dtypes: float64(2), object(10)\n",
      "memory usage: 8.1+ MB\n"
     ]
    }
   ],
   "source": [
    "# date_time column is an object\n",
    "ufos_df.info()"
   ]
  },
  {
   "cell_type": "code",
   "execution_count": 15,
   "id": "33855f75-8603-46b7-844c-79942280423e",
   "metadata": {},
   "outputs": [
    {
     "data": {
      "text/plain": [
       "0       2019-12-12 18:43:00\n",
       "1       2019-03-22 18:30:00\n",
       "2                       NaT\n",
       "3       2019-04-17 02:00:00\n",
       "4       2009-03-15 18:00:00\n",
       "                ...        \n",
       "88120   2019-10-02 20:00:00\n",
       "88121   2019-10-02 20:00:00\n",
       "88122   2019-10-02 20:03:00\n",
       "88123   2019-10-02 22:00:00\n",
       "88124   2019-10-02 22:00:00\n",
       "Name: date_time, Length: 88125, dtype: datetime64[ns]"
      ]
     },
     "execution_count": 15,
     "metadata": {},
     "output_type": "execute_result"
    }
   ],
   "source": [
    "pd.to_datetime(ufos_df[\"date_time\"])"
   ]
  },
  {
   "cell_type": "code",
   "execution_count": 16,
   "id": "b3fa2f50-5b3b-4ffb-af5f-d173eb823040",
   "metadata": {},
   "outputs": [],
   "source": [
    "ufos_df[\"date_time\"] = pd.to_datetime(ufos_df[\"date_time\"])"
   ]
  },
  {
   "cell_type": "code",
   "execution_count": 17,
   "id": "74954e51-7d30-486b-b913-613f7d6a32b1",
   "metadata": {},
   "outputs": [
    {
     "name": "stdout",
     "output_type": "stream",
     "text": [
      "<class 'pandas.core.series.Series'>\n",
      "RangeIndex: 88125 entries, 0 to 88124\n",
      "Series name: date_time\n",
      "Non-Null Count  Dtype         \n",
      "--------------  -----         \n",
      "86938 non-null  datetime64[ns]\n",
      "dtypes: datetime64[ns](1)\n",
      "memory usage: 688.6 KB\n"
     ]
    }
   ],
   "source": [
    "ufos_df[\"date_time\"].info()"
   ]
  },
  {
   "cell_type": "code",
   "execution_count": 18,
   "id": "debd54de-4600-4ca5-8395-c48d756a9ce5",
   "metadata": {},
   "outputs": [
    {
     "name": "stdout",
     "output_type": "stream",
     "text": [
      "<class 'pandas.core.frame.DataFrame'>\n",
      "RangeIndex: 88125 entries, 0 to 88124\n",
      "Data columns (total 12 columns):\n",
      " #   Column          Non-Null Count  Dtype         \n",
      "---  ------          --------------  -----         \n",
      " 0   summary         88095 non-null  object        \n",
      " 1   city            87891 non-null  object        \n",
      " 2   state           82890 non-null  object        \n",
      " 3   date_time       86938 non-null  datetime64[ns]\n",
      " 4   shape           85627 non-null  object        \n",
      " 5   duration        84954 non-null  object        \n",
      " 6   stats           88088 non-null  object        \n",
      " 7   report_link     88125 non-null  object        \n",
      " 8   text            88070 non-null  object        \n",
      " 9   posted          86938 non-null  object        \n",
      " 10  city_latitude   72013 non-null  float64       \n",
      " 11  city_longitude  72013 non-null  float64       \n",
      "dtypes: datetime64[ns](1), float64(2), object(9)\n",
      "memory usage: 8.1+ MB\n"
     ]
    }
   ],
   "source": [
    "pd.read_csv(data_dir / \"nuforc_reports.csv\", parse_dates=[\"date_time\"]).info()"
   ]
  },
  {
   "cell_type": "markdown",
   "id": "4bd2f000-9fea-4a87-a901-0a479b98411b",
   "metadata": {},
   "source": [
    "### The Useful dt Properties"
   ]
  },
  {
   "cell_type": "code",
   "execution_count": 20,
   "id": "3119d68f-a467-449f-a9e7-4c3afb4cbdc5",
   "metadata": {},
   "outputs": [
    {
     "name": "stdout",
     "output_type": "stream",
     "text": [
      "<class 'pandas.core.series.Series'>\n",
      "RangeIndex: 88125 entries, 0 to 88124\n",
      "Series name: date_time\n",
      "Non-Null Count  Dtype         \n",
      "--------------  -----         \n",
      "86938 non-null  datetime64[ns]\n",
      "dtypes: datetime64[ns](1)\n",
      "memory usage: 688.6 KB\n"
     ]
    }
   ],
   "source": [
    "ufos_df[\"date_time\"].info()"
   ]
  },
  {
   "cell_type": "code",
   "execution_count": 24,
   "id": "450791aa-1e7e-4621-93ad-f5819eb38a25",
   "metadata": {},
   "outputs": [
    {
     "data": {
      "text/plain": [
       "<AxesSubplot:>"
      ]
     },
     "execution_count": 24,
     "metadata": {},
     "output_type": "execute_result"
    },
    {
     "data": {
      "image/png": "[encoded data removed]",
      "text/plain": [
       "<Figure size 432x288 with 1 Axes>"
      ]
     },
     "metadata": {
      "needs_background": "light"
     },
     "output_type": "display_data"
    }
   ],
   "source": [
    "ufos_df[\"date_time\"].dt.year.value_counts().head(10).plot(kind=\"bar\")"
   ]
  },
  {
   "cell_type": "code",
   "execution_count": 26,
   "id": "44ea6fff-612d-425e-93fb-578e05a91945",
   "metadata": {},
   "outputs": [
    {
     "data": {
      "text/plain": [
       "7.0     10682\n",
       "8.0      8997\n",
       "9.0      8498\n",
       "10.0     8371\n",
       "6.0      8357\n",
       "11.0     7596\n",
       "12.0     6525\n",
       "5.0      6063\n",
       "1.0      5979\n",
       "4.0      5817\n",
       "3.0      5494\n",
       "2.0      4559\n",
       "Name: date_time, dtype: int64"
      ]
     },
     "execution_count": 26,
     "metadata": {},
     "output_type": "execute_result"
    }
   ],
   "source": [
    "ufos_df[\"date_time\"].dt.month.value_counts()"
   ]
  },
  {
   "cell_type": "code",
   "execution_count": 29,
   "id": "1f2deacd-bcb3-4e61-a61f-22338b534b10",
   "metadata": {},
   "outputs": [
    {
     "data": {
      "text/plain": [
       "1.0     4852\n",
       "15.0    4403\n",
       "4.0     3864\n",
       "20.0    3016\n",
       "12.0    2945\n",
       "Name: date_time, dtype: int64"
      ]
     },
     "execution_count": 29,
     "metadata": {},
     "output_type": "execute_result"
    }
   ],
   "source": [
    "ufos_df[\"date_time\"].dt.day.value_counts().head()"
   ]
  },
  {
   "cell_type": "code",
   "execution_count": 33,
   "id": "646dfe7e-e090-4069-893b-36c81a00f579",
   "metadata": {},
   "outputs": [
    {
     "data": {
      "text/plain": [
       "<AxesSubplot:>"
      ]
     },
     "execution_count": 33,
     "metadata": {},
     "output_type": "execute_result"
    },
    {
     "data": {
      "image/png": "[encoded data removed]",
      "text/plain": [
       "<Figure size 432x288 with 1 Axes>"
      ]
     },
     "metadata": {
      "needs_background": "light"
     },
     "output_type": "display_data"
    }
   ],
   "source": [
    "ufos_df[\"date_time\"].dt.hour.value_counts().sort_index().plot(kind=\"bar\")"
   ]
  },
  {
   "cell_type": "markdown",
   "id": "600f299b-d0fb-4893-879e-7d8831c01322",
   "metadata": {},
   "source": [
    "### Comparing Dates"
   ]
  },
  {
   "cell_type": "code",
   "execution_count": 35,
   "id": "c02a5231-d4aa-4b9b-b655-4d1fd242e8cf",
   "metadata": {},
   "outputs": [
    {
     "data": {
      "text/html": [
       "<div>\n",
       "<style scoped>\n",
       "    .dataframe tbody tr th:only-of-type {\n",
       "        vertical-align: middle;\n",
       "    }\n",
       "\n",
       "    .dataframe tbody tr th {\n",
       "        vertical-align: top;\n",
       "    }\n",
       "\n",
       "    .dataframe thead th {\n",
       "        text-align: right;\n",
       "    }\n",
       "</style>\n",
       "<table border=\"1\" class=\"dataframe\">\n",
       "  <thead>\n",
       "    <tr style=\"text-align: right;\">\n",
       "      <th></th>\n",
       "      <th>summary</th>\n",
       "      <th>city</th>\n",
       "      <th>state</th>\n",
       "      <th>date_time</th>\n",
       "      <th>shape</th>\n",
       "      <th>duration</th>\n",
       "      <th>stats</th>\n",
       "      <th>report_link</th>\n",
       "      <th>text</th>\n",
       "      <th>posted</th>\n",
       "      <th>city_latitude</th>\n",
       "      <th>city_longitude</th>\n",
       "    </tr>\n",
       "  </thead>\n",
       "  <tbody>\n",
       "    <tr>\n",
       "      <th>8</th>\n",
       "      <td>Ufos report in Irving Texas at 2200 hrs. On or...</td>\n",
       "      <td>Dallas</td>\n",
       "      <td>TX</td>\n",
       "      <td>1973-07-14 22:00:00</td>\n",
       "      <td>oval</td>\n",
       "      <td>6 minutes</td>\n",
       "      <td>Occurred : 7/14/1973 22:00  (Entered as : 07/1...</td>\n",
       "      <td>http://www.nuforc.org/webreports/145/S145751.html</td>\n",
       "      <td>Ufos report in Irving Texas at 2200 hrs.  On o...</td>\n",
       "      <td>2019-04-25T00:00:00</td>\n",
       "      <td>32.835168</td>\n",
       "      <td>-96.808118</td>\n",
       "    </tr>\n",
       "    <tr>\n",
       "      <th>15</th>\n",
       "      <td>Strange bright light hovered over mobile home.</td>\n",
       "      <td>Gray Court</td>\n",
       "      <td>SC</td>\n",
       "      <td>1975-07-17 00:00:00</td>\n",
       "      <td>light</td>\n",
       "      <td>5 minutes</td>\n",
       "      <td>Occurred : 7/17/1975 00:00  (Entered as : 07/1...</td>\n",
       "      <td>http://www.nuforc.org/webreports/147/S147117.html</td>\n",
       "      <td>Strange bright light hovered over mobile home....</td>\n",
       "      <td>2019-07-05T00:00:00</td>\n",
       "      <td>34.578800</td>\n",
       "      <td>-82.114100</td>\n",
       "    </tr>\n",
       "    <tr>\n",
       "      <th>31</th>\n",
       "      <td>Bright green round object quickly travelling e...</td>\n",
       "      <td>N. Cascades Nat. Park</td>\n",
       "      <td>WA</td>\n",
       "      <td>1979-07-15 23:00:00</td>\n",
       "      <td>light</td>\n",
       "      <td>2x ~10sec</td>\n",
       "      <td>Occurred : 7/15/1979 23:00  (Entered as : 07/1...</td>\n",
       "      <td>http://www.nuforc.org/webreports/050/S50300.html</td>\n",
       "      <td>Bright green round object quickly travelling e...</td>\n",
       "      <td>2006-05-15T00:00:00</td>\n",
       "      <td>NaN</td>\n",
       "      <td>NaN</td>\n",
       "    </tr>\n",
       "    <tr>\n",
       "      <th>54</th>\n",
       "      <td>It was a full moon when my brother and I obser...</td>\n",
       "      <td>Lawrenceburg</td>\n",
       "      <td>KY</td>\n",
       "      <td>1969-06-01 21:00:00</td>\n",
       "      <td>disk</td>\n",
       "      <td>5 minutes</td>\n",
       "      <td>Occurred : 6/1/1969 21:00  (Entered as : 1969 ...</td>\n",
       "      <td>http://www.nuforc.org/webreports/049/S49947.html</td>\n",
       "      <td>It was a full moon when my brother and I obser...</td>\n",
       "      <td>2006-05-15T00:00:00</td>\n",
       "      <td>38.005200</td>\n",
       "      <td>-84.983000</td>\n",
       "    </tr>\n",
       "    <tr>\n",
       "      <th>55</th>\n",
       "      <td>UFO over Orangevale, CA in May/June 1969</td>\n",
       "      <td>Orangevale</td>\n",
       "      <td>CA</td>\n",
       "      <td>1969-06-01 23:00:00</td>\n",
       "      <td>unknown</td>\n",
       "      <td>30 to 45 minutes</td>\n",
       "      <td>Occurred : 6/1/1969 23:00  (Entered as : 06/01...</td>\n",
       "      <td>http://www.nuforc.org/webreports/049/S49619.html</td>\n",
       "      <td>UFO over Orangevale, CA in May/June 1969 My fi...</td>\n",
       "      <td>2006-05-15T00:00:00</td>\n",
       "      <td>38.684500</td>\n",
       "      <td>-121.222300</td>\n",
       "    </tr>\n",
       "    <tr>\n",
       "      <th>...</th>\n",
       "      <td>...</td>\n",
       "      <td>...</td>\n",
       "      <td>...</td>\n",
       "      <td>...</td>\n",
       "      <td>...</td>\n",
       "      <td>...</td>\n",
       "      <td>...</td>\n",
       "      <td>...</td>\n",
       "      <td>...</td>\n",
       "      <td>...</td>\n",
       "      <td>...</td>\n",
       "      <td>...</td>\n",
       "    </tr>\n",
       "    <tr>\n",
       "      <th>87166</th>\n",
       "      <td>VERY LARGE OBJECT- WHITE LIGHT ILLUMINATING MY...</td>\n",
       "      <td>Anoka</td>\n",
       "      <td>MN</td>\n",
       "      <td>1976-06-30 21:00:00</td>\n",
       "      <td>light</td>\n",
       "      <td>5 minutes</td>\n",
       "      <td>Occurred : 6/30/1976 21:00  (Entered as : 22:0...</td>\n",
       "      <td>http://www.nuforc.org/webreports/149/S149050.html</td>\n",
       "      <td>VERY LARGE OBJECT- WHITE LIGHT ILLUMINATING MY...</td>\n",
       "      <td>2019-10-04T00:00:00</td>\n",
       "      <td>45.287400</td>\n",
       "      <td>-93.433600</td>\n",
       "    </tr>\n",
       "    <tr>\n",
       "      <th>87167</th>\n",
       "      <td>7 \"PEARLESCENT\" HIGH ALTITUDE CRAFT IN V FORMA...</td>\n",
       "      <td>Long Beach</td>\n",
       "      <td>CA</td>\n",
       "      <td>1976-11-18 13:00:00</td>\n",
       "      <td>circle</td>\n",
       "      <td>20 seconds</td>\n",
       "      <td>Occurred : 11/18/1976 13:00  (Entered as : 11/...</td>\n",
       "      <td>http://www.nuforc.org/webreports/149/S149389.html</td>\n",
       "      <td>7 \"PEARLESCENT\" HIGH ALTITUDE CRAFT IN V FORMA...</td>\n",
       "      <td>2019-10-04T00:00:00</td>\n",
       "      <td>33.790023</td>\n",
       "      <td>-118.173105</td>\n",
       "    </tr>\n",
       "    <tr>\n",
       "      <th>87168</th>\n",
       "      <td>The even occurred North of Mt Calvary Rd on Ol...</td>\n",
       "      <td>Thomasville</td>\n",
       "      <td>NC</td>\n",
       "      <td>1977-04-14 23:00:00</td>\n",
       "      <td>disk</td>\n",
       "      <td>10 minutes</td>\n",
       "      <td>Occurred : 4/14/1977 23:00  (Entered as : 4/14...</td>\n",
       "      <td>http://www.nuforc.org/webreports/149/S149395.html</td>\n",
       "      <td>The even occurred North of Mt Calvary Rd on Ol...</td>\n",
       "      <td>2019-10-04T00:00:00</td>\n",
       "      <td>35.882600</td>\n",
       "      <td>-80.082000</td>\n",
       "    </tr>\n",
       "    <tr>\n",
       "      <th>87169</th>\n",
       "      <td>Triangle ship passed over silent with 7 green ...</td>\n",
       "      <td>Stratford</td>\n",
       "      <td>TX</td>\n",
       "      <td>1977-07-06 11:45:00</td>\n",
       "      <td>triangle</td>\n",
       "      <td>10 minutes</td>\n",
       "      <td>Occurred : 7/6/1977 11:45  (Entered as : 07/06...</td>\n",
       "      <td>http://www.nuforc.org/webreports/149/S149474.html</td>\n",
       "      <td>Triangle ship passed over silent with 7 green ...</td>\n",
       "      <td>2019-10-04T00:00:00</td>\n",
       "      <td>36.277900</td>\n",
       "      <td>-102.015600</td>\n",
       "    </tr>\n",
       "    <tr>\n",
       "      <th>87170</th>\n",
       "      <td>While trick or treating with Mom, my Grandma p...</td>\n",
       "      <td>Deer Park</td>\n",
       "      <td>OH</td>\n",
       "      <td>1977-10-31 19:00:00</td>\n",
       "      <td>fireball</td>\n",
       "      <td>5 minutes</td>\n",
       "      <td>Occurred : 10/31/1977 19:00  (Entered as : 10/...</td>\n",
       "      <td>http://www.nuforc.org/webreports/149/S149458.html</td>\n",
       "      <td>While trick or treating with Mom, my Grandma p...</td>\n",
       "      <td>2019-10-04T00:00:00</td>\n",
       "      <td>NaN</td>\n",
       "      <td>NaN</td>\n",
       "    </tr>\n",
       "  </tbody>\n",
       "</table>\n",
       "<p>1499 rows × 12 columns</p>\n",
       "</div>"
      ],
      "text/plain": [
       "                                                 summary  \\\n",
       "8      Ufos report in Irving Texas at 2200 hrs. On or...   \n",
       "15        Strange bright light hovered over mobile home.   \n",
       "31     Bright green round object quickly travelling e...   \n",
       "54     It was a full moon when my brother and I obser...   \n",
       "55              UFO over Orangevale, CA in May/June 1969   \n",
       "...                                                  ...   \n",
       "87166  VERY LARGE OBJECT- WHITE LIGHT ILLUMINATING MY...   \n",
       "87167  7 \"PEARLESCENT\" HIGH ALTITUDE CRAFT IN V FORMA...   \n",
       "87168  The even occurred North of Mt Calvary Rd on Ol...   \n",
       "87169  Triangle ship passed over silent with 7 green ...   \n",
       "87170  While trick or treating with Mom, my Grandma p...   \n",
       "\n",
       "                        city state           date_time     shape  \\\n",
       "8                     Dallas    TX 1973-07-14 22:00:00      oval   \n",
       "15                Gray Court    SC 1975-07-17 00:00:00     light   \n",
       "31     N. Cascades Nat. Park    WA 1979-07-15 23:00:00     light   \n",
       "54              Lawrenceburg    KY 1969-06-01 21:00:00      disk   \n",
       "55                Orangevale    CA 1969-06-01 23:00:00   unknown   \n",
       "...                      ...   ...                 ...       ...   \n",
       "87166                  Anoka    MN 1976-06-30 21:00:00     light   \n",
       "87167             Long Beach    CA 1976-11-18 13:00:00    circle   \n",
       "87168            Thomasville    NC 1977-04-14 23:00:00      disk   \n",
       "87169              Stratford    TX 1977-07-06 11:45:00  triangle   \n",
       "87170              Deer Park    OH 1977-10-31 19:00:00  fireball   \n",
       "\n",
       "               duration                                              stats  \\\n",
       "8             6 minutes  Occurred : 7/14/1973 22:00  (Entered as : 07/1...   \n",
       "15            5 minutes  Occurred : 7/17/1975 00:00  (Entered as : 07/1...   \n",
       "31            2x ~10sec  Occurred : 7/15/1979 23:00  (Entered as : 07/1...   \n",
       "54            5 minutes  Occurred : 6/1/1969 21:00  (Entered as : 1969 ...   \n",
       "55     30 to 45 minutes  Occurred : 6/1/1969 23:00  (Entered as : 06/01...   \n",
       "...                 ...                                                ...   \n",
       "87166         5 minutes  Occurred : 6/30/1976 21:00  (Entered as : 22:0...   \n",
       "87167        20 seconds  Occurred : 11/18/1976 13:00  (Entered as : 11/...   \n",
       "87168        10 minutes  Occurred : 4/14/1977 23:00  (Entered as : 4/14...   \n",
       "87169        10 minutes  Occurred : 7/6/1977 11:45  (Entered as : 07/06...   \n",
       "87170         5 minutes  Occurred : 10/31/1977 19:00  (Entered as : 10/...   \n",
       "\n",
       "                                             report_link  \\\n",
       "8      http://www.nuforc.org/webreports/145/S145751.html   \n",
       "15     http://www.nuforc.org/webreports/147/S147117.html   \n",
       "31      http://www.nuforc.org/webreports/050/S50300.html   \n",
       "54      http://www.nuforc.org/webreports/049/S49947.html   \n",
       "55      http://www.nuforc.org/webreports/049/S49619.html   \n",
       "...                                                  ...   \n",
       "87166  http://www.nuforc.org/webreports/149/S149050.html   \n",
       "87167  http://www.nuforc.org/webreports/149/S149389.html   \n",
       "87168  http://www.nuforc.org/webreports/149/S149395.html   \n",
       "87169  http://www.nuforc.org/webreports/149/S149474.html   \n",
       "87170  http://www.nuforc.org/webreports/149/S149458.html   \n",
       "\n",
       "                                                    text               posted  \\\n",
       "8      Ufos report in Irving Texas at 2200 hrs.  On o...  2019-04-25T00:00:00   \n",
       "15     Strange bright light hovered over mobile home....  2019-07-05T00:00:00   \n",
       "31     Bright green round object quickly travelling e...  2006-05-15T00:00:00   \n",
       "54     It was a full moon when my brother and I obser...  2006-05-15T00:00:00   \n",
       "55     UFO over Orangevale, CA in May/June 1969 My fi...  2006-05-15T00:00:00   \n",
       "...                                                  ...                  ...   \n",
       "87166  VERY LARGE OBJECT- WHITE LIGHT ILLUMINATING MY...  2019-10-04T00:00:00   \n",
       "87167  7 \"PEARLESCENT\" HIGH ALTITUDE CRAFT IN V FORMA...  2019-10-04T00:00:00   \n",
       "87168  The even occurred North of Mt Calvary Rd on Ol...  2019-10-04T00:00:00   \n",
       "87169  Triangle ship passed over silent with 7 green ...  2019-10-04T00:00:00   \n",
       "87170  While trick or treating with Mom, my Grandma p...  2019-10-04T00:00:00   \n",
       "\n",
       "       city_latitude  city_longitude  \n",
       "8          32.835168      -96.808118  \n",
       "15         34.578800      -82.114100  \n",
       "31               NaN             NaN  \n",
       "54         38.005200      -84.983000  \n",
       "55         38.684500     -121.222300  \n",
       "...              ...             ...  \n",
       "87166      45.287400      -93.433600  \n",
       "87167      33.790023     -118.173105  \n",
       "87168      35.882600      -80.082000  \n",
       "87169      36.277900     -102.015600  \n",
       "87170            NaN             NaN  \n",
       "\n",
       "[1499 rows x 12 columns]"
      ]
     },
     "execution_count": 35,
     "metadata": {},
     "output_type": "execute_result"
    }
   ],
   "source": [
    "ufos_df[ufos_df[\"date_time\"] < \"1980\"]"
   ]
  },
  {
   "cell_type": "code",
   "execution_count": 37,
   "id": "ad1cf024-7fbf-49c0-adec-2bfd113bd44e",
   "metadata": {},
   "outputs": [
    {
     "data": {
      "text/html": [
       "<div>\n",
       "<style scoped>\n",
       "    .dataframe tbody tr th:only-of-type {\n",
       "        vertical-align: middle;\n",
       "    }\n",
       "\n",
       "    .dataframe tbody tr th {\n",
       "        vertical-align: top;\n",
       "    }\n",
       "\n",
       "    .dataframe thead th {\n",
       "        text-align: right;\n",
       "    }\n",
       "</style>\n",
       "<table border=\"1\" class=\"dataframe\">\n",
       "  <thead>\n",
       "    <tr style=\"text-align: right;\">\n",
       "      <th></th>\n",
       "      <th>summary</th>\n",
       "      <th>city</th>\n",
       "      <th>state</th>\n",
       "      <th>date_time</th>\n",
       "      <th>shape</th>\n",
       "      <th>duration</th>\n",
       "      <th>stats</th>\n",
       "      <th>report_link</th>\n",
       "      <th>text</th>\n",
       "      <th>posted</th>\n",
       "      <th>city_latitude</th>\n",
       "      <th>city_longitude</th>\n",
       "    </tr>\n",
       "  </thead>\n",
       "  <tbody>\n",
       "    <tr>\n",
       "      <th>85714</th>\n",
       "      <td>7-8 elongated objects flying in straight line ...</td>\n",
       "      <td>Wilmington</td>\n",
       "      <td>NC</td>\n",
       "      <td>2019-12-29 20:40:00</td>\n",
       "      <td>cigar</td>\n",
       "      <td>10 seconds</td>\n",
       "      <td>Occurred : 11/29/2019 20:40  (Entered as : 12/...</td>\n",
       "      <td>http://www.nuforc.org/webreports/151/S151158.html</td>\n",
       "      <td>7-8 elongated objects flying in straight line ...</td>\n",
       "      <td>2019-12-01T00:00:00</td>\n",
       "      <td>34.238375</td>\n",
       "      <td>-77.878468</td>\n",
       "    </tr>\n",
       "  </tbody>\n",
       "</table>\n",
       "</div>"
      ],
      "text/plain": [
       "                                                 summary        city state  \\\n",
       "85714  7-8 elongated objects flying in straight line ...  Wilmington    NC   \n",
       "\n",
       "                date_time  shape    duration  \\\n",
       "85714 2019-12-29 20:40:00  cigar  10 seconds   \n",
       "\n",
       "                                                   stats  \\\n",
       "85714  Occurred : 11/29/2019 20:40  (Entered as : 12/...   \n",
       "\n",
       "                                             report_link  \\\n",
       "85714  http://www.nuforc.org/webreports/151/S151158.html   \n",
       "\n",
       "                                                    text               posted  \\\n",
       "85714  7-8 elongated objects flying in straight line ...  2019-12-01T00:00:00   \n",
       "\n",
       "       city_latitude  city_longitude  \n",
       "85714      34.238375      -77.878468  "
      ]
     },
     "execution_count": 37,
     "metadata": {},
     "output_type": "execute_result"
    }
   ],
   "source": [
    "ufos_df[ufos_df[\"date_time\"] > \"2019-12-23\"]"
   ]
  },
  {
   "cell_type": "code",
   "execution_count": 40,
   "id": "927a65b7-4fcd-4053-a722-1aaa855effd0",
   "metadata": {},
   "outputs": [
    {
     "data": {
      "text/html": [
       "<div>\n",
       "<style scoped>\n",
       "    .dataframe tbody tr th:only-of-type {\n",
       "        vertical-align: middle;\n",
       "    }\n",
       "\n",
       "    .dataframe tbody tr th {\n",
       "        vertical-align: top;\n",
       "    }\n",
       "\n",
       "    .dataframe thead th {\n",
       "        text-align: right;\n",
       "    }\n",
       "</style>\n",
       "<table border=\"1\" class=\"dataframe\">\n",
       "  <thead>\n",
       "    <tr style=\"text-align: right;\">\n",
       "      <th></th>\n",
       "      <th>summary</th>\n",
       "      <th>city</th>\n",
       "      <th>state</th>\n",
       "      <th>date_time</th>\n",
       "      <th>shape</th>\n",
       "      <th>duration</th>\n",
       "      <th>stats</th>\n",
       "      <th>report_link</th>\n",
       "      <th>text</th>\n",
       "      <th>posted</th>\n",
       "      <th>city_latitude</th>\n",
       "      <th>city_longitude</th>\n",
       "    </tr>\n",
       "  </thead>\n",
       "  <tbody>\n",
       "    <tr>\n",
       "      <th>3</th>\n",
       "      <td>I was driving towards the intersection of fall...</td>\n",
       "      <td>Ottawa</td>\n",
       "      <td>ON</td>\n",
       "      <td>2019-04-17 02:00:00</td>\n",
       "      <td>teardrop</td>\n",
       "      <td>10 seconds</td>\n",
       "      <td>Occurred : 4/17/2019 02:00  (Entered as : 04-1...</td>\n",
       "      <td>http://www.nuforc.org/webreports/145/S145697.html</td>\n",
       "      <td>I was driving towards the intersection of fall...</td>\n",
       "      <td>2019-04-18T00:00:00</td>\n",
       "      <td>45.381383</td>\n",
       "      <td>-75.708501</td>\n",
       "    </tr>\n",
       "    <tr>\n",
       "      <th>14</th>\n",
       "      <td>Bright Circle of Light followed me from Oskalo...</td>\n",
       "      <td>Centerville</td>\n",
       "      <td>IA</td>\n",
       "      <td>1999-08-15 02:30:00</td>\n",
       "      <td>circle</td>\n",
       "      <td>1 hour</td>\n",
       "      <td>Occurred : 8/15/1999 02:30  (Entered as : 08/1...</td>\n",
       "      <td>http://www.nuforc.org/webreports/146/S146702.html</td>\n",
       "      <td>Bright Circle of Light followed me from Oskalo...</td>\n",
       "      <td>2019-06-20T00:00:00</td>\n",
       "      <td>40.707400</td>\n",
       "      <td>-92.921300</td>\n",
       "    </tr>\n",
       "    <tr>\n",
       "      <th>148</th>\n",
       "      <td>Strange Vibrations...</td>\n",
       "      <td>Indianola</td>\n",
       "      <td>IA</td>\n",
       "      <td>1992-04-30 02:00:00</td>\n",
       "      <td>unknown</td>\n",
       "      <td>5 Minutes</td>\n",
       "      <td>Occurred : 4/30/1992 02:00  (Entered as : 04/3...</td>\n",
       "      <td>http://www.nuforc.org/webreports/050/S50488.html</td>\n",
       "      <td>Strange Vibrations... When I was young; about ...</td>\n",
       "      <td>2006-05-15T00:00:00</td>\n",
       "      <td>41.306800</td>\n",
       "      <td>-93.582600</td>\n",
       "    </tr>\n",
       "  </tbody>\n",
       "</table>\n",
       "</div>"
      ],
      "text/plain": [
       "                                               summary         city state  \\\n",
       "3    I was driving towards the intersection of fall...       Ottawa    ON   \n",
       "14   Bright Circle of Light followed me from Oskalo...  Centerville    IA   \n",
       "148                              Strange Vibrations...    Indianola    IA   \n",
       "\n",
       "              date_time     shape    duration  \\\n",
       "3   2019-04-17 02:00:00  teardrop  10 seconds   \n",
       "14  1999-08-15 02:30:00    circle      1 hour   \n",
       "148 1992-04-30 02:00:00   unknown   5 Minutes   \n",
       "\n",
       "                                                 stats  \\\n",
       "3    Occurred : 4/17/2019 02:00  (Entered as : 04-1...   \n",
       "14   Occurred : 8/15/1999 02:30  (Entered as : 08/1...   \n",
       "148  Occurred : 4/30/1992 02:00  (Entered as : 04/3...   \n",
       "\n",
       "                                           report_link  \\\n",
       "3    http://www.nuforc.org/webreports/145/S145697.html   \n",
       "14   http://www.nuforc.org/webreports/146/S146702.html   \n",
       "148   http://www.nuforc.org/webreports/050/S50488.html   \n",
       "\n",
       "                                                  text               posted  \\\n",
       "3    I was driving towards the intersection of fall...  2019-04-18T00:00:00   \n",
       "14   Bright Circle of Light followed me from Oskalo...  2019-06-20T00:00:00   \n",
       "148  Strange Vibrations... When I was young; about ...  2006-05-15T00:00:00   \n",
       "\n",
       "     city_latitude  city_longitude  \n",
       "3        45.381383      -75.708501  \n",
       "14       40.707400      -92.921300  \n",
       "148      41.306800      -93.582600  "
      ]
     },
     "execution_count": 40,
     "metadata": {},
     "output_type": "execute_result"
    }
   ],
   "source": [
    "ufos_df[ufos_df[\"date_time\"].dt.hour == 2.0].head(3)"
   ]
  },
  {
   "cell_type": "code",
   "execution_count": 42,
   "id": "a89977ec-7f51-4aa5-98a5-bfb72e42e690",
   "metadata": {},
   "outputs": [
    {
     "data": {
      "text/html": [
       "<div>\n",
       "<style scoped>\n",
       "    .dataframe tbody tr th:only-of-type {\n",
       "        vertical-align: middle;\n",
       "    }\n",
       "\n",
       "    .dataframe tbody tr th {\n",
       "        vertical-align: top;\n",
       "    }\n",
       "\n",
       "    .dataframe thead th {\n",
       "        text-align: right;\n",
       "    }\n",
       "</style>\n",
       "<table border=\"1\" class=\"dataframe\">\n",
       "  <thead>\n",
       "    <tr style=\"text-align: right;\">\n",
       "      <th></th>\n",
       "      <th>summary</th>\n",
       "      <th>city</th>\n",
       "      <th>state</th>\n",
       "      <th>date_time</th>\n",
       "      <th>shape</th>\n",
       "      <th>duration</th>\n",
       "      <th>stats</th>\n",
       "      <th>report_link</th>\n",
       "      <th>text</th>\n",
       "      <th>posted</th>\n",
       "      <th>city_latitude</th>\n",
       "      <th>city_longitude</th>\n",
       "    </tr>\n",
       "  </thead>\n",
       "  <tbody>\n",
       "    <tr>\n",
       "      <th>128</th>\n",
       "      <td>Triangle craft with one large softwhite light ...</td>\n",
       "      <td>Powhatan</td>\n",
       "      <td>VA</td>\n",
       "      <td>1988-03-08 05:20:00</td>\n",
       "      <td>triangle</td>\n",
       "      <td>12 sec.</td>\n",
       "      <td>Occurred : 3/8/1988 05:20  (Entered as : 03/08...</td>\n",
       "      <td>http://www.nuforc.org/webreports/049/S49538.html</td>\n",
       "      <td>Triangle craft with one large softwhite light ...</td>\n",
       "      <td>2006-05-15T00:00:00</td>\n",
       "      <td>37.553300</td>\n",
       "      <td>-77.934500</td>\n",
       "    </tr>\n",
       "    <tr>\n",
       "      <th>129</th>\n",
       "      <td>-Working the night shift,and always watching t...</td>\n",
       "      <td>Woburn</td>\n",
       "      <td>MA</td>\n",
       "      <td>1988-06-20 01:00:00</td>\n",
       "      <td>light</td>\n",
       "      <td>12 minutes</td>\n",
       "      <td>Occurred : 6/20/1988 01:00  (Entered as : 6 20...</td>\n",
       "      <td>http://www.nuforc.org/webreports/050/S50574.html</td>\n",
       "      <td>-Working the night shift,and always watching t...</td>\n",
       "      <td>2006-05-15T00:00:00</td>\n",
       "      <td>42.488858</td>\n",
       "      <td>-71.158917</td>\n",
       "    </tr>\n",
       "    <tr>\n",
       "      <th>130</th>\n",
       "      <td>one shining spiral  moves fast from southwest ...</td>\n",
       "      <td>Suzhou, Jiangsu (China)</td>\n",
       "      <td>NaN</td>\n",
       "      <td>1988-08-10 15:00:00</td>\n",
       "      <td>circle</td>\n",
       "      <td>5 minutes</td>\n",
       "      <td>Occurred : 8/10/1988 15:00  (Entered as : 08/1...</td>\n",
       "      <td>http://www.nuforc.org/webreports/049/S49687.html</td>\n",
       "      <td>one shining spiral  moves fast from southwest ...</td>\n",
       "      <td>2006-05-15T00:00:00</td>\n",
       "      <td>NaN</td>\n",
       "      <td>NaN</td>\n",
       "    </tr>\n",
       "  </tbody>\n",
       "</table>\n",
       "</div>"
      ],
      "text/plain": [
       "                                               summary  \\\n",
       "128  Triangle craft with one large softwhite light ...   \n",
       "129  -Working the night shift,and always watching t...   \n",
       "130  one shining spiral  moves fast from southwest ...   \n",
       "\n",
       "                        city state           date_time     shape    duration  \\\n",
       "128                 Powhatan    VA 1988-03-08 05:20:00  triangle     12 sec.   \n",
       "129                   Woburn    MA 1988-06-20 01:00:00     light  12 minutes   \n",
       "130  Suzhou, Jiangsu (China)   NaN 1988-08-10 15:00:00    circle   5 minutes   \n",
       "\n",
       "                                                 stats  \\\n",
       "128  Occurred : 3/8/1988 05:20  (Entered as : 03/08...   \n",
       "129  Occurred : 6/20/1988 01:00  (Entered as : 6 20...   \n",
       "130  Occurred : 8/10/1988 15:00  (Entered as : 08/1...   \n",
       "\n",
       "                                          report_link  \\\n",
       "128  http://www.nuforc.org/webreports/049/S49538.html   \n",
       "129  http://www.nuforc.org/webreports/050/S50574.html   \n",
       "130  http://www.nuforc.org/webreports/049/S49687.html   \n",
       "\n",
       "                                                  text               posted  \\\n",
       "128  Triangle craft with one large softwhite light ...  2006-05-15T00:00:00   \n",
       "129  -Working the night shift,and always watching t...  2006-05-15T00:00:00   \n",
       "130  one shining spiral  moves fast from southwest ...  2006-05-15T00:00:00   \n",
       "\n",
       "     city_latitude  city_longitude  \n",
       "128      37.553300      -77.934500  \n",
       "129      42.488858      -71.158917  \n",
       "130            NaN             NaN  "
      ]
     },
     "execution_count": 42,
     "metadata": {},
     "output_type": "execute_result"
    }
   ],
   "source": [
    "ufos_df[ufos_df[\"date_time\"].between(\"1988\", \"1989\")].head(3)"
   ]
  },
  {
   "cell_type": "markdown",
   "id": "e8b6dfac-0f30-407a-a493-c54bcea65151",
   "metadata": {},
   "source": [
    "### Finding StarLink Flybys In UFO Dataset"
   ]
  },
  {
   "cell_type": "code",
   "execution_count": 51,
   "id": "b8ee6fc8-dbdf-400a-a720-797e48e478e4",
   "metadata": {},
   "outputs": [
    {
     "data": {
      "text/plain": [
       "22    50\n",
       "20    22\n",
       "19    21\n",
       "21    19\n",
       "18    13\n",
       "Name: date_time, dtype: int64"
      ]
     },
     "execution_count": 51,
     "metadata": {},
     "output_type": "execute_result"
    }
   ],
   "source": [
    "# Notice the number of reports on the 22nd of December 2019\n",
    "ufos_df[ufos_df[\"date_time\"].between(\"2019-12-18\", \"2019-12-23\")][\"date_time\"].dt.day.value_counts()"
   ]
  },
  {
   "cell_type": "code",
   "execution_count": 54,
   "id": "6feab802-8b42-420d-9e0f-f9b9b6c37ead",
   "metadata": {},
   "outputs": [
    {
     "data": {
      "text/plain": [
       "2015-11-07    290\n",
       "2014-07-04    270\n",
       "2010-07-04    210\n",
       "2012-07-04    200\n",
       "2013-07-04    185\n",
       "             ... \n",
       "1980-09-12      1\n",
       "1988-06-13      1\n",
       "1981-07-29      1\n",
       "2004-07-04      1\n",
       "2003-09-07      1\n",
       "Name: date_time, Length: 8351, dtype: int64"
      ]
     },
     "execution_count": 54,
     "metadata": {},
     "output_type": "execute_result"
    }
   ],
   "source": [
    "ufos_df[\"date_time\"].dt.date.value_counts()"
   ]
  },
  {
   "cell_type": "code",
   "execution_count": 60,
   "id": "d891bf73-1389-4a25-b214-5090edd7ece1",
   "metadata": {},
   "outputs": [
    {
     "data": {
      "text/plain": [
       "2019-11-11    77\n",
       "2019-05-25    69\n",
       "2019-05-26    67\n",
       "2019-05-24    60\n",
       "2019-07-04    57\n",
       "2019-11-24    50\n",
       "2019-12-22    50\n",
       "2019-10-05    49\n",
       "2018-07-04    40\n",
       "2019-09-21    40\n",
       "2019-11-25    39\n",
       "2019-09-19    38\n",
       "2019-12-12    37\n",
       "2019-11-12    36\n",
       "2019-11-23    35\n",
       "Name: date_time, dtype: int64"
      ]
     },
     "execution_count": 60,
     "metadata": {},
     "output_type": "execute_result"
    }
   ],
   "source": [
    "# StarLink date\n",
    "recent_sightings = ufos_df[ufos_df[\"date_time\"].dt.year >= 2018]\n",
    "recent_sightings[\"date_time\"].dt.date.value_counts().head(15)"
   ]
  },
  {
   "cell_type": "code",
   "execution_count": 62,
   "id": "cfe0487d-e41f-4b9b-871d-413ffec7c3fb",
   "metadata": {},
   "outputs": [
    {
     "data": {
      "text/html": [
       "<div>\n",
       "<style scoped>\n",
       "    .dataframe tbody tr th:only-of-type {\n",
       "        vertical-align: middle;\n",
       "    }\n",
       "\n",
       "    .dataframe tbody tr th {\n",
       "        vertical-align: top;\n",
       "    }\n",
       "\n",
       "    .dataframe thead th {\n",
       "        text-align: right;\n",
       "    }\n",
       "</style>\n",
       "<table border=\"1\" class=\"dataframe\">\n",
       "  <thead>\n",
       "    <tr style=\"text-align: right;\">\n",
       "      <th></th>\n",
       "      <th>summary</th>\n",
       "      <th>city</th>\n",
       "      <th>state</th>\n",
       "      <th>date_time</th>\n",
       "      <th>shape</th>\n",
       "      <th>duration</th>\n",
       "      <th>stats</th>\n",
       "      <th>report_link</th>\n",
       "      <th>text</th>\n",
       "      <th>posted</th>\n",
       "      <th>city_latitude</th>\n",
       "      <th>city_longitude</th>\n",
       "    </tr>\n",
       "  </thead>\n",
       "  <tbody>\n",
       "    <tr>\n",
       "      <th>1913</th>\n",
       "      <td>Were looking up at the stars and a string of w...</td>\n",
       "      <td>Fort Yates</td>\n",
       "      <td>ND</td>\n",
       "      <td>2019-05-24 00:00:00</td>\n",
       "      <td>unknown</td>\n",
       "      <td>3 minutes</td>\n",
       "      <td>Occurred : 5/24/2019 00:00  (Entered as : 05/2...</td>\n",
       "      <td>http://www.nuforc.org/webreports/146/S146348.html</td>\n",
       "      <td>We were sitting outside looking up at the star...</td>\n",
       "      <td>2019-06-07T00:00:00</td>\n",
       "      <td>46.103500</td>\n",
       "      <td>-100.702900</td>\n",
       "    </tr>\n",
       "    <tr>\n",
       "      <th>1914</th>\n",
       "      <td>May 24th at approximately 0002 hours I witness...</td>\n",
       "      <td>Wilsonville</td>\n",
       "      <td>OR</td>\n",
       "      <td>2019-05-24 00:02:00</td>\n",
       "      <td>formation</td>\n",
       "      <td>2 minutes</td>\n",
       "      <td>Occurred : 5/24/2019 00:02  (Entered as : 05/2...</td>\n",
       "      <td>http://www.nuforc.org/webreports/146/S146271.html</td>\n",
       "      <td>May 24th, at approximately 0002 hours, I witne...</td>\n",
       "      <td>2019-06-07T00:00:00</td>\n",
       "      <td>45.308400</td>\n",
       "      <td>-122.779900</td>\n",
       "    </tr>\n",
       "    <tr>\n",
       "      <th>1915</th>\n",
       "      <td>30 white orbs.  ((NUFORC Note:  Satellites fro...</td>\n",
       "      <td>Mitchell</td>\n",
       "      <td>SD</td>\n",
       "      <td>2019-05-24 00:05:00</td>\n",
       "      <td>formation</td>\n",
       "      <td>1 minute</td>\n",
       "      <td>Occurred : 5/24/2019 00:05  (Entered as : 05/2...</td>\n",
       "      <td>http://www.nuforc.org/webreports/146/S146355.html</td>\n",
       "      <td>30 white orbs. On the Evening of May 24th, 201...</td>\n",
       "      <td>2019-06-07T00:00:00</td>\n",
       "      <td>43.718300</td>\n",
       "      <td>-98.026200</td>\n",
       "    </tr>\n",
       "    <tr>\n",
       "      <th>1916</th>\n",
       "      <td>seen a rip in the night sky.it looks like a br...</td>\n",
       "      <td>Hazel green</td>\n",
       "      <td>AL</td>\n",
       "      <td>2019-05-24 00:14:00</td>\n",
       "      <td>light</td>\n",
       "      <td>2 minutes</td>\n",
       "      <td>Occurred : 5/24/2019 00:14  (Entered as : 05/2...</td>\n",
       "      <td>http://www.nuforc.org/webreports/146/S146455.html</td>\n",
       "      <td>seen a rip in the night sky.it looks like a bi...</td>\n",
       "      <td>2019-06-07T00:00:00</td>\n",
       "      <td>34.934100</td>\n",
       "      <td>-86.580300</td>\n",
       "    </tr>\n",
       "    <tr>\n",
       "      <th>1917</th>\n",
       "      <td>It was somewhat a slow moving blurry light obj...</td>\n",
       "      <td>Staunton</td>\n",
       "      <td>VA</td>\n",
       "      <td>2019-05-24 00:16:00</td>\n",
       "      <td>chevron</td>\n",
       "      <td>1+ minutes</td>\n",
       "      <td>Occurred : 5/24/2019 00:16  (Entered as : 5/24...</td>\n",
       "      <td>http://www.nuforc.org/webreports/146/S146265.html</td>\n",
       "      <td>This is what I saw.  At west side Staunton cit...</td>\n",
       "      <td>2019-06-07T00:00:00</td>\n",
       "      <td>38.137038</td>\n",
       "      <td>-79.063041</td>\n",
       "    </tr>\n",
       "    <tr>\n",
       "      <th>...</th>\n",
       "      <td>...</td>\n",
       "      <td>...</td>\n",
       "      <td>...</td>\n",
       "      <td>...</td>\n",
       "      <td>...</td>\n",
       "      <td>...</td>\n",
       "      <td>...</td>\n",
       "      <td>...</td>\n",
       "      <td>...</td>\n",
       "      <td>...</td>\n",
       "      <td>...</td>\n",
       "      <td>...</td>\n",
       "    </tr>\n",
       "    <tr>\n",
       "      <th>2521</th>\n",
       "      <td>Intense Bright Flashes for Four Hours...</td>\n",
       "      <td>Hulett</td>\n",
       "      <td>WY</td>\n",
       "      <td>2019-05-26 00:00:00</td>\n",
       "      <td>light</td>\n",
       "      <td>4 hours</td>\n",
       "      <td>Occurred : 5/26/2019 00:00  (Entered as : 0526...</td>\n",
       "      <td>http://www.nuforc.org/webreports/146/S146274.html</td>\n",
       "      <td>Intense Bright Flashes for Four Hours... I wok...</td>\n",
       "      <td>2019-06-07T00:00:00</td>\n",
       "      <td>44.744400</td>\n",
       "      <td>-104.680400</td>\n",
       "    </tr>\n",
       "    <tr>\n",
       "      <th>2581</th>\n",
       "      <td>We were outside, 11:54pm, saw 4 lights moving ...</td>\n",
       "      <td>Ocean Shores</td>\n",
       "      <td>WA</td>\n",
       "      <td>2019-05-26 00:00:00</td>\n",
       "      <td>light</td>\n",
       "      <td>4 to 5 min</td>\n",
       "      <td>Occurred : 5/26/2019 00:00  (Entered as : May ...</td>\n",
       "      <td>http://www.nuforc.org/webreports/146/S146440.html</td>\n",
       "      <td>We were outside, 11:54pm, saw 4 lights moving ...</td>\n",
       "      <td>2019-06-07T00:00:00</td>\n",
       "      <td>46.972000</td>\n",
       "      <td>-124.143200</td>\n",
       "    </tr>\n",
       "    <tr>\n",
       "      <th>2582</th>\n",
       "      <td>Reported seeing a triangle of lights, moving a...</td>\n",
       "      <td>Manitowish waters</td>\n",
       "      <td>WI</td>\n",
       "      <td>2019-05-26 00:00:00</td>\n",
       "      <td>triangle</td>\n",
       "      <td>15 minutes</td>\n",
       "      <td>Occurred : 5/26/2019 00:00  (Entered as : 05/2...</td>\n",
       "      <td>http://www.nuforc.org/webreports/146/S146448.html</td>\n",
       "      <td>I did not see it but my friend and his son in ...</td>\n",
       "      <td>2019-06-07T00:00:00</td>\n",
       "      <td>NaN</td>\n",
       "      <td>NaN</td>\n",
       "    </tr>\n",
       "    <tr>\n",
       "      <th>2583</th>\n",
       "      <td>Formation of lights grows larger and passes ab...</td>\n",
       "      <td>Grants</td>\n",
       "      <td>AL</td>\n",
       "      <td>2019-05-26 00:00:00</td>\n",
       "      <td>formation</td>\n",
       "      <td>5 minutes</td>\n",
       "      <td>Occurred : 5/26/2019 00:00  (Entered as : 05/2...</td>\n",
       "      <td>http://www.nuforc.org/webreports/146/S146489.html</td>\n",
       "      <td>Formation of lights grows larger and passes ab...</td>\n",
       "      <td>2019-06-07T00:00:00</td>\n",
       "      <td>NaN</td>\n",
       "      <td>NaN</td>\n",
       "    </tr>\n",
       "    <tr>\n",
       "      <th>2584</th>\n",
       "      <td>Huge 3 light UFO in night sky,  5/26/19.  ((an...</td>\n",
       "      <td>East Troy</td>\n",
       "      <td>WI</td>\n",
       "      <td>2019-05-26 00:00:00</td>\n",
       "      <td>disk</td>\n",
       "      <td>1 minute</td>\n",
       "      <td>Occurred : 5/26/2019 00:00  (Entered as : 05/2...</td>\n",
       "      <td>http://www.nuforc.org/webreports/146/S146443.html</td>\n",
       "      <td>Huge 3 light UFO in night sky,  5/26/19. Star ...</td>\n",
       "      <td>2019-06-07T00:00:00</td>\n",
       "      <td>42.794500</td>\n",
       "      <td>-88.399400</td>\n",
       "    </tr>\n",
       "  </tbody>\n",
       "</table>\n",
       "<p>134 rows × 12 columns</p>\n",
       "</div>"
      ],
      "text/plain": [
       "                                                summary               city  \\\n",
       "1913  Were looking up at the stars and a string of w...         Fort Yates   \n",
       "1914  May 24th at approximately 0002 hours I witness...        Wilsonville   \n",
       "1915  30 white orbs.  ((NUFORC Note:  Satellites fro...           Mitchell   \n",
       "1916  seen a rip in the night sky.it looks like a br...        Hazel green   \n",
       "1917  It was somewhat a slow moving blurry light obj...           Staunton   \n",
       "...                                                 ...                ...   \n",
       "2521           Intense Bright Flashes for Four Hours...             Hulett   \n",
       "2581  We were outside, 11:54pm, saw 4 lights moving ...       Ocean Shores   \n",
       "2582  Reported seeing a triangle of lights, moving a...  Manitowish waters   \n",
       "2583  Formation of lights grows larger and passes ab...             Grants   \n",
       "2584  Huge 3 light UFO in night sky,  5/26/19.  ((an...          East Troy   \n",
       "\n",
       "     state           date_time      shape    duration  \\\n",
       "1913    ND 2019-05-24 00:00:00    unknown   3 minutes   \n",
       "1914    OR 2019-05-24 00:02:00  formation   2 minutes   \n",
       "1915    SD 2019-05-24 00:05:00  formation    1 minute   \n",
       "1916    AL 2019-05-24 00:14:00      light   2 minutes   \n",
       "1917    VA 2019-05-24 00:16:00    chevron  1+ minutes   \n",
       "...    ...                 ...        ...         ...   \n",
       "2521    WY 2019-05-26 00:00:00      light     4 hours   \n",
       "2581    WA 2019-05-26 00:00:00      light  4 to 5 min   \n",
       "2582    WI 2019-05-26 00:00:00   triangle  15 minutes   \n",
       "2583    AL 2019-05-26 00:00:00  formation   5 minutes   \n",
       "2584    WI 2019-05-26 00:00:00       disk    1 minute   \n",
       "\n",
       "                                                  stats  \\\n",
       "1913  Occurred : 5/24/2019 00:00  (Entered as : 05/2...   \n",
       "1914  Occurred : 5/24/2019 00:02  (Entered as : 05/2...   \n",
       "1915  Occurred : 5/24/2019 00:05  (Entered as : 05/2...   \n",
       "1916  Occurred : 5/24/2019 00:14  (Entered as : 05/2...   \n",
       "1917  Occurred : 5/24/2019 00:16  (Entered as : 5/24...   \n",
       "...                                                 ...   \n",
       "2521  Occurred : 5/26/2019 00:00  (Entered as : 0526...   \n",
       "2581  Occurred : 5/26/2019 00:00  (Entered as : May ...   \n",
       "2582  Occurred : 5/26/2019 00:00  (Entered as : 05/2...   \n",
       "2583  Occurred : 5/26/2019 00:00  (Entered as : 05/2...   \n",
       "2584  Occurred : 5/26/2019 00:00  (Entered as : 05/2...   \n",
       "\n",
       "                                            report_link  \\\n",
       "1913  http://www.nuforc.org/webreports/146/S146348.html   \n",
       "1914  http://www.nuforc.org/webreports/146/S146271.html   \n",
       "1915  http://www.nuforc.org/webreports/146/S146355.html   \n",
       "1916  http://www.nuforc.org/webreports/146/S146455.html   \n",
       "1917  http://www.nuforc.org/webreports/146/S146265.html   \n",
       "...                                                 ...   \n",
       "2521  http://www.nuforc.org/webreports/146/S146274.html   \n",
       "2581  http://www.nuforc.org/webreports/146/S146440.html   \n",
       "2582  http://www.nuforc.org/webreports/146/S146448.html   \n",
       "2583  http://www.nuforc.org/webreports/146/S146489.html   \n",
       "2584  http://www.nuforc.org/webreports/146/S146443.html   \n",
       "\n",
       "                                                   text               posted  \\\n",
       "1913  We were sitting outside looking up at the star...  2019-06-07T00:00:00   \n",
       "1914  May 24th, at approximately 0002 hours, I witne...  2019-06-07T00:00:00   \n",
       "1915  30 white orbs. On the Evening of May 24th, 201...  2019-06-07T00:00:00   \n",
       "1916  seen a rip in the night sky.it looks like a bi...  2019-06-07T00:00:00   \n",
       "1917  This is what I saw.  At west side Staunton cit...  2019-06-07T00:00:00   \n",
       "...                                                 ...                  ...   \n",
       "2521  Intense Bright Flashes for Four Hours... I wok...  2019-06-07T00:00:00   \n",
       "2581  We were outside, 11:54pm, saw 4 lights moving ...  2019-06-07T00:00:00   \n",
       "2582  I did not see it but my friend and his son in ...  2019-06-07T00:00:00   \n",
       "2583  Formation of lights grows larger and passes ab...  2019-06-07T00:00:00   \n",
       "2584  Huge 3 light UFO in night sky,  5/26/19. Star ...  2019-06-07T00:00:00   \n",
       "\n",
       "      city_latitude  city_longitude  \n",
       "1913      46.103500     -100.702900  \n",
       "1914      45.308400     -122.779900  \n",
       "1915      43.718300      -98.026200  \n",
       "1916      34.934100      -86.580300  \n",
       "1917      38.137038      -79.063041  \n",
       "...             ...             ...  \n",
       "2521      44.744400     -104.680400  \n",
       "2581      46.972000     -124.143200  \n",
       "2582            NaN             NaN  \n",
       "2583            NaN             NaN  \n",
       "2584      42.794500      -88.399400  \n",
       "\n",
       "[134 rows x 12 columns]"
      ]
     },
     "execution_count": 62,
     "metadata": {},
     "output_type": "execute_result"
    }
   ],
   "source": [
    "ufos_df[ufos_df[\"date_time\"].between(\"2019-05-24\", \"2019-05-26\")]"
   ]
  },
  {
   "cell_type": "markdown",
   "id": "6a65a072-ec76-472a-a854-fb9e7ae553f4",
   "metadata": {},
   "source": [
    "### Date Math & Timedeltas"
   ]
  },
  {
   "cell_type": "code",
   "execution_count": 63,
   "id": "617d9513-71a0-4fb7-bd50-852c7827219b",
   "metadata": {},
   "outputs": [
    {
     "name": "stdout",
     "output_type": "stream",
     "text": [
      "<class 'pandas.core.frame.DataFrame'>\n",
      "RangeIndex: 88125 entries, 0 to 88124\n",
      "Data columns (total 12 columns):\n",
      " #   Column          Non-Null Count  Dtype         \n",
      "---  ------          --------------  -----         \n",
      " 0   summary         88095 non-null  object        \n",
      " 1   city            87891 non-null  object        \n",
      " 2   state           82890 non-null  object        \n",
      " 3   date_time       86938 non-null  datetime64[ns]\n",
      " 4   shape           85627 non-null  object        \n",
      " 5   duration        84954 non-null  object        \n",
      " 6   stats           88088 non-null  object        \n",
      " 7   report_link     88125 non-null  object        \n",
      " 8   text            88070 non-null  object        \n",
      " 9   posted          86938 non-null  object        \n",
      " 10  city_latitude   72013 non-null  float64       \n",
      " 11  city_longitude  72013 non-null  float64       \n",
      "dtypes: datetime64[ns](1), float64(2), object(9)\n",
      "memory usage: 8.1+ MB\n"
     ]
    }
   ],
   "source": [
    "ufos_df.info()"
   ]
  },
  {
   "cell_type": "code",
   "execution_count": 65,
   "id": "16eda2c0-6dd3-403b-a065-3a576dd2d2f0",
   "metadata": {},
   "outputs": [],
   "source": [
    "ufos_df[\"posted\"] = pd.to_datetime(ufos_df[\"posted\"])"
   ]
  },
  {
   "cell_type": "code",
   "execution_count": 66,
   "id": "0aec0072-590e-4478-bffa-02212182a4d8",
   "metadata": {},
   "outputs": [
    {
     "name": "stdout",
     "output_type": "stream",
     "text": [
      "<class 'pandas.core.frame.DataFrame'>\n",
      "RangeIndex: 88125 entries, 0 to 88124\n",
      "Data columns (total 12 columns):\n",
      " #   Column          Non-Null Count  Dtype         \n",
      "---  ------          --------------  -----         \n",
      " 0   summary         88095 non-null  object        \n",
      " 1   city            87891 non-null  object        \n",
      " 2   state           82890 non-null  object        \n",
      " 3   date_time       86938 non-null  datetime64[ns]\n",
      " 4   shape           85627 non-null  object        \n",
      " 5   duration        84954 non-null  object        \n",
      " 6   stats           88088 non-null  object        \n",
      " 7   report_link     88125 non-null  object        \n",
      " 8   text            88070 non-null  object        \n",
      " 9   posted          86938 non-null  datetime64[ns]\n",
      " 10  city_latitude   72013 non-null  float64       \n",
      " 11  city_longitude  72013 non-null  float64       \n",
      "dtypes: datetime64[ns](2), float64(2), object(8)\n",
      "memory usage: 8.1+ MB\n"
     ]
    }
   ],
   "source": [
    "ufos_df.info()"
   ]
  },
  {
   "cell_type": "code",
   "execution_count": 67,
   "id": "f0f80568-edf5-4aae-9819-777f47615a66",
   "metadata": {},
   "outputs": [
    {
     "data": {
      "text/plain": [
       "0          9 days 05:17:00\n",
       "1          6 days 05:30:00\n",
       "2                      NaT\n",
       "3          0 days 22:00:00\n",
       "4       3685 days 06:00:00\n",
       "               ...        \n",
       "88120      1 days 04:00:00\n",
       "88121      1 days 04:00:00\n",
       "88122      1 days 03:57:00\n",
       "88123      1 days 02:00:00\n",
       "88124      1 days 02:00:00\n",
       "Length: 88125, dtype: timedelta64[ns]"
      ]
     },
     "execution_count": 67,
     "metadata": {},
     "output_type": "execute_result"
    }
   ],
   "source": [
    "ufos_df[\"posted\"] - ufos_df[\"date_time\"]"
   ]
  },
  {
   "cell_type": "code",
   "execution_count": 68,
   "id": "7426ff02-8fdd-4fa7-af44-0b6ab2251ce1",
   "metadata": {},
   "outputs": [],
   "source": [
    "ufos_df[\"time_before_reported\"] = ufos_df[\"posted\"] - ufos_df[\"date_time\"]"
   ]
  },
  {
   "cell_type": "code",
   "execution_count": 72,
   "id": "6d020e79-ae59-4cf3-9d2a-d231c00317ea",
   "metadata": {},
   "outputs": [],
   "source": [
    "longest_wait = ufos_df.sort_values(\"time_before_reported\", ascending=False).head(10)"
   ]
  },
  {
   "cell_type": "code",
   "execution_count": 74,
   "id": "fda8ac68-291f-4c05-b6ba-374e003f3e18",
   "metadata": {},
   "outputs": [
    {
     "data": {
      "text/plain": [
       "86762    50.583562\n",
       "87145    50.282192\n",
       "721      50.175342\n",
       "1576     50.101370\n",
       "1580     49.972603\n",
       "84984    49.586301\n",
       "83965    49.213699\n",
       "722      49.180822\n",
       "723      49.052055\n",
       "1301     48.967123\n",
       "Name: time_before_reported, dtype: float64"
      ]
     },
     "execution_count": 74,
     "metadata": {},
     "output_type": "execute_result"
    }
   ],
   "source": [
    "# Calculate the longest wait to report times in terms of years\n",
    "longest_wait[\"time_before_reported\"].dt.days / 365"
   ]
  },
  {
   "cell_type": "code",
   "execution_count": 75,
   "id": "f996450a-64e8-4a7d-9802-26e3e9f5043a",
   "metadata": {},
   "outputs": [],
   "source": [
    "ufos_df[\"years_before_reporting\"] = ufos_df[\"time_before_reported\"].dt.days / 365"
   ]
  },
  {
   "cell_type": "code",
   "execution_count": 79,
   "id": "d23f38f7-6b53-4ea5-8f29-d6a432e4d22e",
   "metadata": {},
   "outputs": [
    {
     "data": {
      "text/html": [
       "<div>\n",
       "<style scoped>\n",
       "    .dataframe tbody tr th:only-of-type {\n",
       "        vertical-align: middle;\n",
       "    }\n",
       "\n",
       "    .dataframe tbody tr th {\n",
       "        vertical-align: top;\n",
       "    }\n",
       "\n",
       "    .dataframe thead th {\n",
       "        text-align: right;\n",
       "    }\n",
       "</style>\n",
       "<table border=\"1\" class=\"dataframe\">\n",
       "  <thead>\n",
       "    <tr style=\"text-align: right;\">\n",
       "      <th></th>\n",
       "      <th>summary</th>\n",
       "      <th>city</th>\n",
       "      <th>state</th>\n",
       "      <th>date_time</th>\n",
       "      <th>shape</th>\n",
       "      <th>duration</th>\n",
       "      <th>stats</th>\n",
       "      <th>report_link</th>\n",
       "      <th>text</th>\n",
       "      <th>posted</th>\n",
       "      <th>city_latitude</th>\n",
       "      <th>city_longitude</th>\n",
       "      <th>time_before_reported</th>\n",
       "      <th>years_before_reporting</th>\n",
       "    </tr>\n",
       "  </thead>\n",
       "  <tbody>\n",
       "    <tr>\n",
       "      <th>86762</th>\n",
       "      <td>An incomplete report given on behalf of anothe...</td>\n",
       "      <td>El Paso</td>\n",
       "      <td>TX</td>\n",
       "      <td>1969-06-01 00:00:00</td>\n",
       "      <td>other</td>\n",
       "      <td>3 minutes</td>\n",
       "      <td>Occurred : 6/1/1969 00:00  (Entered as : 1969 ...</td>\n",
       "      <td>http://www.nuforc.org/webreports/151/S151313.html</td>\n",
       "      <td>An incomplete report given on behalf of anothe...</td>\n",
       "      <td>2019-12-19</td>\n",
       "      <td>31.792328</td>\n",
       "      <td>-106.374849</td>\n",
       "      <td>18463 days 00:00:00</td>\n",
       "      <td>50.583562</td>\n",
       "    </tr>\n",
       "    <tr>\n",
       "      <th>87145</th>\n",
       "      <td>Strange globe sighting--1969.</td>\n",
       "      <td>Philadelphia</td>\n",
       "      <td>PA</td>\n",
       "      <td>1969-07-04 01:30:00</td>\n",
       "      <td>sphere</td>\n",
       "      <td>20 minutes</td>\n",
       "      <td>Occurred : 7/4/1969 01:30  (Entered as : 07/04...</td>\n",
       "      <td>http://www.nuforc.org/webreports/149/S149273.html</td>\n",
       "      <td>Strange globe sighting--1969. Thank you for al...</td>\n",
       "      <td>2019-10-04</td>\n",
       "      <td>39.990635</td>\n",
       "      <td>-75.145801</td>\n",
       "      <td>18353 days 22:30:00</td>\n",
       "      <td>50.282192</td>\n",
       "    </tr>\n",
       "    <tr>\n",
       "      <th>721</th>\n",
       "      <td>It was July 1969 on a clear summer evening in ...</td>\n",
       "      <td>New Castle</td>\n",
       "      <td>PA</td>\n",
       "      <td>1969-07-01 21:00:00</td>\n",
       "      <td>disk</td>\n",
       "      <td>45 seconds</td>\n",
       "      <td>Occurred : 7/1/1969 21:00  (Entered as : July ...</td>\n",
       "      <td>http://www.nuforc.org/webreports/147/S147922.html</td>\n",
       "      <td>It was July 1969 on a clear summer evening in ...</td>\n",
       "      <td>2019-08-23</td>\n",
       "      <td>41.001224</td>\n",
       "      <td>-80.319468</td>\n",
       "      <td>18314 days 03:00:00</td>\n",
       "      <td>50.175342</td>\n",
       "    </tr>\n",
       "    <tr>\n",
       "      <th>1576</th>\n",
       "      <td>1969 olive branch Mississippi large round ligh...</td>\n",
       "      <td>Olive Branch</td>\n",
       "      <td>MS</td>\n",
       "      <td>1969-06-30 00:00:00</td>\n",
       "      <td>light</td>\n",
       "      <td>5 minutes</td>\n",
       "      <td>Occurred : 5/30/1969 20:30  (Entered as : Summ...</td>\n",
       "      <td>http://www.nuforc.org/webreports/147/S147576.html</td>\n",
       "      <td>1969 olive branch Mississippi large round ligh...</td>\n",
       "      <td>2019-07-25</td>\n",
       "      <td>34.918000</td>\n",
       "      <td>-89.821600</td>\n",
       "      <td>18287 days 00:00:00</td>\n",
       "      <td>50.101370</td>\n",
       "    </tr>\n",
       "    <tr>\n",
       "      <th>1580</th>\n",
       "      <td>Six bright lights in &amp;quot;V&amp;quot; formation s...</td>\n",
       "      <td>Westport</td>\n",
       "      <td>MA</td>\n",
       "      <td>1969-08-15 16:00:00</td>\n",
       "      <td>formation</td>\n",
       "      <td>8-10 secs</td>\n",
       "      <td>Occurred : 8/15/1969 16:00  (Entered as : 08/1...</td>\n",
       "      <td>http://www.nuforc.org/webreports/147/S147589.html</td>\n",
       "      <td>Six bright lights in &amp;quot;V&amp;quot; formation s...</td>\n",
       "      <td>2019-07-25</td>\n",
       "      <td>NaN</td>\n",
       "      <td>NaN</td>\n",
       "      <td>18240 days 08:00:00</td>\n",
       "      <td>49.972603</td>\n",
       "    </tr>\n",
       "  </tbody>\n",
       "</table>\n",
       "</div>"
      ],
      "text/plain": [
       "                                                 summary          city state  \\\n",
       "86762  An incomplete report given on behalf of anothe...       El Paso    TX   \n",
       "87145                      Strange globe sighting--1969.  Philadelphia    PA   \n",
       "721    It was July 1969 on a clear summer evening in ...    New Castle    PA   \n",
       "1576   1969 olive branch Mississippi large round ligh...  Olive Branch    MS   \n",
       "1580   Six bright lights in &quot;V&quot; formation s...      Westport    MA   \n",
       "\n",
       "                date_time      shape    duration  \\\n",
       "86762 1969-06-01 00:00:00      other   3 minutes   \n",
       "87145 1969-07-04 01:30:00     sphere  20 minutes   \n",
       "721   1969-07-01 21:00:00       disk  45 seconds   \n",
       "1576  1969-06-30 00:00:00      light   5 minutes   \n",
       "1580  1969-08-15 16:00:00  formation   8-10 secs   \n",
       "\n",
       "                                                   stats  \\\n",
       "86762  Occurred : 6/1/1969 00:00  (Entered as : 1969 ...   \n",
       "87145  Occurred : 7/4/1969 01:30  (Entered as : 07/04...   \n",
       "721    Occurred : 7/1/1969 21:00  (Entered as : July ...   \n",
       "1576   Occurred : 5/30/1969 20:30  (Entered as : Summ...   \n",
       "1580   Occurred : 8/15/1969 16:00  (Entered as : 08/1...   \n",
       "\n",
       "                                             report_link  \\\n",
       "86762  http://www.nuforc.org/webreports/151/S151313.html   \n",
       "87145  http://www.nuforc.org/webreports/149/S149273.html   \n",
       "721    http://www.nuforc.org/webreports/147/S147922.html   \n",
       "1576   http://www.nuforc.org/webreports/147/S147576.html   \n",
       "1580   http://www.nuforc.org/webreports/147/S147589.html   \n",
       "\n",
       "                                                    text     posted  \\\n",
       "86762  An incomplete report given on behalf of anothe... 2019-12-19   \n",
       "87145  Strange globe sighting--1969. Thank you for al... 2019-10-04   \n",
       "721    It was July 1969 on a clear summer evening in ... 2019-08-23   \n",
       "1576   1969 olive branch Mississippi large round ligh... 2019-07-25   \n",
       "1580   Six bright lights in &quot;V&quot; formation s... 2019-07-25   \n",
       "\n",
       "       city_latitude  city_longitude time_before_reported  \\\n",
       "86762      31.792328     -106.374849  18463 days 00:00:00   \n",
       "87145      39.990635      -75.145801  18353 days 22:30:00   \n",
       "721        41.001224      -80.319468  18314 days 03:00:00   \n",
       "1576       34.918000      -89.821600  18287 days 00:00:00   \n",
       "1580             NaN             NaN  18240 days 08:00:00   \n",
       "\n",
       "       years_before_reporting  \n",
       "86762               50.583562  \n",
       "87145               50.282192  \n",
       "721                 50.175342  \n",
       "1576                50.101370  \n",
       "1580                49.972603  "
      ]
     },
     "execution_count": 79,
     "metadata": {},
     "output_type": "execute_result"
    }
   ],
   "source": [
    "ufos_df.sort_values(\"years_before_reporting\", ascending=False).head()"
   ]
  },
  {
   "cell_type": "markdown",
   "id": "97d74a92-d2a4-4f72-b4ee-28966501edee",
   "metadata": {},
   "source": [
    "### Billboard Charts Dataset Exploration"
   ]
  },
  {
   "cell_type": "code",
   "execution_count": 82,
   "id": "183f23c2-bedb-40de-a790-6b507ff57698",
   "metadata": {},
   "outputs": [
    {
     "data": {
      "text/html": [
       "<div>\n",
       "<style scoped>\n",
       "    .dataframe tbody tr th:only-of-type {\n",
       "        vertical-align: middle;\n",
       "    }\n",
       "\n",
       "    .dataframe tbody tr th {\n",
       "        vertical-align: top;\n",
       "    }\n",
       "\n",
       "    .dataframe thead th {\n",
       "        text-align: right;\n",
       "    }\n",
       "</style>\n",
       "<table border=\"1\" class=\"dataframe\">\n",
       "  <thead>\n",
       "    <tr style=\"text-align: right;\">\n",
       "      <th></th>\n",
       "      <th>date</th>\n",
       "      <th>rank</th>\n",
       "      <th>song</th>\n",
       "      <th>artist</th>\n",
       "      <th>last-week</th>\n",
       "      <th>peak-rank</th>\n",
       "      <th>weeks-on-board</th>\n",
       "    </tr>\n",
       "  </thead>\n",
       "  <tbody>\n",
       "    <tr>\n",
       "      <th>0</th>\n",
       "      <td>2021-11-06</td>\n",
       "      <td>1</td>\n",
       "      <td>Easy On Me</td>\n",
       "      <td>Adele</td>\n",
       "      <td>1.0</td>\n",
       "      <td>1</td>\n",
       "      <td>3</td>\n",
       "    </tr>\n",
       "    <tr>\n",
       "      <th>1</th>\n",
       "      <td>2021-11-06</td>\n",
       "      <td>2</td>\n",
       "      <td>Stay</td>\n",
       "      <td>The Kid LAROI &amp; Justin Bieber</td>\n",
       "      <td>2.0</td>\n",
       "      <td>1</td>\n",
       "      <td>16</td>\n",
       "    </tr>\n",
       "    <tr>\n",
       "      <th>2</th>\n",
       "      <td>2021-11-06</td>\n",
       "      <td>3</td>\n",
       "      <td>Industry Baby</td>\n",
       "      <td>Lil Nas X &amp; Jack Harlow</td>\n",
       "      <td>3.0</td>\n",
       "      <td>1</td>\n",
       "      <td>14</td>\n",
       "    </tr>\n",
       "    <tr>\n",
       "      <th>3</th>\n",
       "      <td>2021-11-06</td>\n",
       "      <td>4</td>\n",
       "      <td>Fancy Like</td>\n",
       "      <td>Walker Hayes</td>\n",
       "      <td>4.0</td>\n",
       "      <td>3</td>\n",
       "      <td>19</td>\n",
       "    </tr>\n",
       "    <tr>\n",
       "      <th>4</th>\n",
       "      <td>2021-11-06</td>\n",
       "      <td>5</td>\n",
       "      <td>Bad Habits</td>\n",
       "      <td>Ed Sheeran</td>\n",
       "      <td>5.0</td>\n",
       "      <td>2</td>\n",
       "      <td>18</td>\n",
       "    </tr>\n",
       "  </tbody>\n",
       "</table>\n",
       "</div>"
      ],
      "text/plain": [
       "        date  rank           song                         artist  last-week  \\\n",
       "0 2021-11-06     1     Easy On Me                          Adele        1.0   \n",
       "1 2021-11-06     2           Stay  The Kid LAROI & Justin Bieber        2.0   \n",
       "2 2021-11-06     3  Industry Baby        Lil Nas X & Jack Harlow        3.0   \n",
       "3 2021-11-06     4     Fancy Like                   Walker Hayes        4.0   \n",
       "4 2021-11-06     5     Bad Habits                     Ed Sheeran        5.0   \n",
       "\n",
       "   peak-rank  weeks-on-board  \n",
       "0          1               3  \n",
       "1          1              16  \n",
       "2          1              14  \n",
       "3          3              19  \n",
       "4          2              18  "
      ]
     },
     "execution_count": 82,
     "metadata": {},
     "output_type": "execute_result"
    }
   ],
   "source": [
    "charts_df.head()"
   ]
  },
  {
   "cell_type": "code",
   "execution_count": 83,
   "id": "f025207a-548a-4a0e-be18-45ecf4c6977d",
   "metadata": {},
   "outputs": [
    {
     "name": "stdout",
     "output_type": "stream",
     "text": [
      "<class 'pandas.core.frame.DataFrame'>\n",
      "RangeIndex: 330087 entries, 0 to 330086\n",
      "Data columns (total 7 columns):\n",
      " #   Column          Non-Null Count   Dtype         \n",
      "---  ------          --------------   -----         \n",
      " 0   date            330087 non-null  datetime64[ns]\n",
      " 1   rank            330087 non-null  int64         \n",
      " 2   song            330087 non-null  object        \n",
      " 3   artist          330087 non-null  object        \n",
      " 4   last-week       297775 non-null  float64       \n",
      " 5   peak-rank       330087 non-null  int64         \n",
      " 6   weeks-on-board  330087 non-null  int64         \n",
      "dtypes: datetime64[ns](1), float64(1), int64(3), object(2)\n",
      "memory usage: 17.6+ MB\n"
     ]
    }
   ],
   "source": [
    "charts_df.info()"
   ]
  },
  {
   "cell_type": "code",
   "execution_count": 86,
   "id": "98673bdf-fe1d-4ee2-aba0-186559b7f57f",
   "metadata": {},
   "outputs": [
    {
     "data": {
      "text/plain": [
       "<AxesSubplot:>"
      ]
     },
     "execution_count": 86,
     "metadata": {},
     "output_type": "execute_result"
    },
    {
     "data": {
      "image/png": "[encoded data removed]",
      "text/plain": [
       "<Figure size 432x288 with 1 Axes>"
      ]
     },
     "metadata": {
      "needs_background": "light"
     },
     "output_type": "display_data"
    }
   ],
   "source": [
    "charts_df[\"artist\"].value_counts().head(10).plot(kind=\"bar\")"
   ]
  },
  {
   "cell_type": "code",
   "execution_count": 87,
   "id": "0433e484-81d6-4b82-a65b-66635a597ab9",
   "metadata": {},
   "outputs": [
    {
     "data": {
      "text/html": [
       "<div>\n",
       "<style scoped>\n",
       "    .dataframe tbody tr th:only-of-type {\n",
       "        vertical-align: middle;\n",
       "    }\n",
       "\n",
       "    .dataframe tbody tr th {\n",
       "        vertical-align: top;\n",
       "    }\n",
       "\n",
       "    .dataframe thead th {\n",
       "        text-align: right;\n",
       "    }\n",
       "</style>\n",
       "<table border=\"1\" class=\"dataframe\">\n",
       "  <thead>\n",
       "    <tr style=\"text-align: right;\">\n",
       "      <th></th>\n",
       "      <th>date</th>\n",
       "      <th>rank</th>\n",
       "      <th>song</th>\n",
       "      <th>artist</th>\n",
       "      <th>last-week</th>\n",
       "      <th>peak-rank</th>\n",
       "      <th>weeks-on-board</th>\n",
       "    </tr>\n",
       "  </thead>\n",
       "  <tbody>\n",
       "    <tr>\n",
       "      <th>0</th>\n",
       "      <td>2021-11-06</td>\n",
       "      <td>1</td>\n",
       "      <td>Easy On Me</td>\n",
       "      <td>Adele</td>\n",
       "      <td>1.0</td>\n",
       "      <td>1</td>\n",
       "      <td>3</td>\n",
       "    </tr>\n",
       "    <tr>\n",
       "      <th>100</th>\n",
       "      <td>2021-10-30</td>\n",
       "      <td>1</td>\n",
       "      <td>Easy On Me</td>\n",
       "      <td>Adele</td>\n",
       "      <td>68.0</td>\n",
       "      <td>1</td>\n",
       "      <td>2</td>\n",
       "    </tr>\n",
       "    <tr>\n",
       "      <th>200</th>\n",
       "      <td>2021-10-23</td>\n",
       "      <td>1</td>\n",
       "      <td>Industry Baby</td>\n",
       "      <td>Lil Nas X &amp; Jack Harlow</td>\n",
       "      <td>2.0</td>\n",
       "      <td>1</td>\n",
       "      <td>12</td>\n",
       "    </tr>\n",
       "    <tr>\n",
       "      <th>300</th>\n",
       "      <td>2021-10-16</td>\n",
       "      <td>1</td>\n",
       "      <td>Stay</td>\n",
       "      <td>The Kid LAROI &amp; Justin Bieber</td>\n",
       "      <td>2.0</td>\n",
       "      <td>1</td>\n",
       "      <td>13</td>\n",
       "    </tr>\n",
       "    <tr>\n",
       "      <th>400</th>\n",
       "      <td>2021-10-09</td>\n",
       "      <td>1</td>\n",
       "      <td>My Universe</td>\n",
       "      <td>Coldplay x BTS</td>\n",
       "      <td>NaN</td>\n",
       "      <td>1</td>\n",
       "      <td>1</td>\n",
       "    </tr>\n",
       "    <tr>\n",
       "      <th>...</th>\n",
       "      <td>...</td>\n",
       "      <td>...</td>\n",
       "      <td>...</td>\n",
       "      <td>...</td>\n",
       "      <td>...</td>\n",
       "      <td>...</td>\n",
       "      <td>...</td>\n",
       "    </tr>\n",
       "    <tr>\n",
       "      <th>329587</th>\n",
       "      <td>1958-09-01</td>\n",
       "      <td>1</td>\n",
       "      <td>Nel Blu Dipinto Di Blu (Volaré)</td>\n",
       "      <td>Domenico Modugno</td>\n",
       "      <td>2.0</td>\n",
       "      <td>1</td>\n",
       "      <td>5</td>\n",
       "    </tr>\n",
       "    <tr>\n",
       "      <th>329687</th>\n",
       "      <td>1958-08-25</td>\n",
       "      <td>1</td>\n",
       "      <td>Little Star</td>\n",
       "      <td>The Elegants</td>\n",
       "      <td>2.0</td>\n",
       "      <td>1</td>\n",
       "      <td>4</td>\n",
       "    </tr>\n",
       "    <tr>\n",
       "      <th>329787</th>\n",
       "      <td>1958-08-18</td>\n",
       "      <td>1</td>\n",
       "      <td>Nel Blu Dipinto Di Blu (Volaré)</td>\n",
       "      <td>Domenico Modugno</td>\n",
       "      <td>2.0</td>\n",
       "      <td>1</td>\n",
       "      <td>3</td>\n",
       "    </tr>\n",
       "    <tr>\n",
       "      <th>329887</th>\n",
       "      <td>1958-08-11</td>\n",
       "      <td>1</td>\n",
       "      <td>Poor Little Fool</td>\n",
       "      <td>Ricky Nelson</td>\n",
       "      <td>1.0</td>\n",
       "      <td>1</td>\n",
       "      <td>2</td>\n",
       "    </tr>\n",
       "    <tr>\n",
       "      <th>329987</th>\n",
       "      <td>1958-08-04</td>\n",
       "      <td>1</td>\n",
       "      <td>Poor Little Fool</td>\n",
       "      <td>Ricky Nelson</td>\n",
       "      <td>NaN</td>\n",
       "      <td>1</td>\n",
       "      <td>1</td>\n",
       "    </tr>\n",
       "  </tbody>\n",
       "</table>\n",
       "<p>3301 rows × 7 columns</p>\n",
       "</div>"
      ],
      "text/plain": [
       "             date  rank                             song  \\\n",
       "0      2021-11-06     1                       Easy On Me   \n",
       "100    2021-10-30     1                       Easy On Me   \n",
       "200    2021-10-23     1                    Industry Baby   \n",
       "300    2021-10-16     1                             Stay   \n",
       "400    2021-10-09     1                      My Universe   \n",
       "...           ...   ...                              ...   \n",
       "329587 1958-09-01     1  Nel Blu Dipinto Di Blu (Volaré)   \n",
       "329687 1958-08-25     1                      Little Star   \n",
       "329787 1958-08-18     1  Nel Blu Dipinto Di Blu (Volaré)   \n",
       "329887 1958-08-11     1                 Poor Little Fool   \n",
       "329987 1958-08-04     1                 Poor Little Fool   \n",
       "\n",
       "                               artist  last-week  peak-rank  weeks-on-board  \n",
       "0                               Adele        1.0          1               3  \n",
       "100                             Adele       68.0          1               2  \n",
       "200           Lil Nas X & Jack Harlow        2.0          1              12  \n",
       "300     The Kid LAROI & Justin Bieber        2.0          1              13  \n",
       "400                    Coldplay x BTS        NaN          1               1  \n",
       "...                               ...        ...        ...             ...  \n",
       "329587               Domenico Modugno        2.0          1               5  \n",
       "329687                   The Elegants        2.0          1               4  \n",
       "329787               Domenico Modugno        2.0          1               3  \n",
       "329887                   Ricky Nelson        1.0          1               2  \n",
       "329987                   Ricky Nelson        NaN          1               1  \n",
       "\n",
       "[3301 rows x 7 columns]"
      ]
     },
     "execution_count": 87,
     "metadata": {},
     "output_type": "execute_result"
    }
   ],
   "source": [
    "number_1s = charts_df[\"rank\"] == 1\n",
    "charts_df[number_1s]"
   ]
  },
  {
   "cell_type": "code",
   "execution_count": 88,
   "id": "ee8c4c70-cdca-479e-925b-dfafbdd9ec1e",
   "metadata": {},
   "outputs": [
    {
     "data": {
      "text/plain": [
       "<AxesSubplot:>"
      ]
     },
     "execution_count": 88,
     "metadata": {},
     "output_type": "execute_result"
    },
    {
     "data": {
      "image/png": "[encoded data removed]",
      "text/plain": [
       "<Figure size 432x288 with 1 Axes>"
      ]
     },
     "metadata": {
      "needs_background": "light"
     },
     "output_type": "display_data"
    }
   ],
   "source": [
    "charts_df[number_1s][\"artist\"].value_counts().head(10).plot(kind=\"bar\")"
   ]
  },
  {
   "cell_type": "code",
   "execution_count": 91,
   "id": "96a9fa84-43b0-490e-bfb8-55c1ad5f5a45",
   "metadata": {},
   "outputs": [
    {
     "data": {
      "text/plain": [
       "Old Town Road                               19\n",
       "Despacito                                   16\n",
       "One Sweet Day                               16\n",
       "Rockstar                                    15\n",
       "I'll Make Love To You                       14\n",
       "                                            ..\n",
       "Then Came You                                1\n",
       "You Haven't Done Nothin                      1\n",
       "You Ain't Seen Nothing Yet/Free Wheelin'     1\n",
       "Whatever Gets You Thru The Night             1\n",
       "I'll Take You There                          1\n",
       "Name: song, Length: 1104, dtype: int64"
      ]
     },
     "execution_count": 91,
     "metadata": {},
     "output_type": "execute_result"
    }
   ],
   "source": [
    "charts_df[number_1s][\"song\"].value_counts()"
   ]
  },
  {
   "cell_type": "code",
   "execution_count": 95,
   "id": "a1b2e2fb-461e-42ab-8851-1863392e6d91",
   "metadata": {},
   "outputs": [
    {
     "data": {
      "text/html": [
       "<div>\n",
       "<style scoped>\n",
       "    .dataframe tbody tr th:only-of-type {\n",
       "        vertical-align: middle;\n",
       "    }\n",
       "\n",
       "    .dataframe tbody tr th {\n",
       "        vertical-align: top;\n",
       "    }\n",
       "\n",
       "    .dataframe thead th {\n",
       "        text-align: right;\n",
       "    }\n",
       "</style>\n",
       "<table border=\"1\" class=\"dataframe\">\n",
       "  <thead>\n",
       "    <tr style=\"text-align: right;\">\n",
       "      <th></th>\n",
       "      <th>rank</th>\n",
       "      <th>song</th>\n",
       "      <th>artist</th>\n",
       "      <th>last-week</th>\n",
       "      <th>peak-rank</th>\n",
       "      <th>weeks-on-board</th>\n",
       "    </tr>\n",
       "    <tr>\n",
       "      <th>date</th>\n",
       "      <th></th>\n",
       "      <th></th>\n",
       "      <th></th>\n",
       "      <th></th>\n",
       "      <th></th>\n",
       "      <th></th>\n",
       "    </tr>\n",
       "  </thead>\n",
       "  <tbody>\n",
       "    <tr>\n",
       "      <th>2020-01-18</th>\n",
       "      <td>46</td>\n",
       "      <td>Old Town Road</td>\n",
       "      <td>Lil Nas X Featuring Billy Ray Cyrus</td>\n",
       "      <td>15.0</td>\n",
       "      <td>1</td>\n",
       "      <td>45</td>\n",
       "    </tr>\n",
       "    <tr>\n",
       "      <th>2020-01-11</th>\n",
       "      <td>15</td>\n",
       "      <td>Old Town Road</td>\n",
       "      <td>Lil Nas X Featuring Billy Ray Cyrus</td>\n",
       "      <td>34.0</td>\n",
       "      <td>1</td>\n",
       "      <td>44</td>\n",
       "    </tr>\n",
       "    <tr>\n",
       "      <th>2020-01-04</th>\n",
       "      <td>34</td>\n",
       "      <td>Old Town Road</td>\n",
       "      <td>Lil Nas X Featuring Billy Ray Cyrus</td>\n",
       "      <td>41.0</td>\n",
       "      <td>1</td>\n",
       "      <td>43</td>\n",
       "    </tr>\n",
       "    <tr>\n",
       "      <th>2019-12-28</th>\n",
       "      <td>41</td>\n",
       "      <td>Old Town Road</td>\n",
       "      <td>Lil Nas X Featuring Billy Ray Cyrus</td>\n",
       "      <td>39.0</td>\n",
       "      <td>1</td>\n",
       "      <td>42</td>\n",
       "    </tr>\n",
       "    <tr>\n",
       "      <th>2019-12-21</th>\n",
       "      <td>39</td>\n",
       "      <td>Old Town Road</td>\n",
       "      <td>Lil Nas X Featuring Billy Ray Cyrus</td>\n",
       "      <td>31.0</td>\n",
       "      <td>1</td>\n",
       "      <td>41</td>\n",
       "    </tr>\n",
       "  </tbody>\n",
       "</table>\n",
       "</div>"
      ],
      "text/plain": [
       "            rank           song                               artist  \\\n",
       "date                                                                   \n",
       "2020-01-18    46  Old Town Road  Lil Nas X Featuring Billy Ray Cyrus   \n",
       "2020-01-11    15  Old Town Road  Lil Nas X Featuring Billy Ray Cyrus   \n",
       "2020-01-04    34  Old Town Road  Lil Nas X Featuring Billy Ray Cyrus   \n",
       "2019-12-28    41  Old Town Road  Lil Nas X Featuring Billy Ray Cyrus   \n",
       "2019-12-21    39  Old Town Road  Lil Nas X Featuring Billy Ray Cyrus   \n",
       "\n",
       "            last-week  peak-rank  weeks-on-board  \n",
       "date                                              \n",
       "2020-01-18       15.0          1              45  \n",
       "2020-01-11       34.0          1              44  \n",
       "2020-01-04       41.0          1              43  \n",
       "2019-12-28       39.0          1              42  \n",
       "2019-12-21       31.0          1              41  "
      ]
     },
     "execution_count": 95,
     "metadata": {},
     "output_type": "execute_result"
    }
   ],
   "source": [
    "charts_df[charts_df[\"song\"] == \"Old Town Road\"].set_index(\"date\").head()"
   ]
  },
  {
   "cell_type": "code",
   "execution_count": 99,
   "id": "5fc6c79b-5171-43ff-a779-b83bf915705e",
   "metadata": {},
   "outputs": [
    {
     "data": {
      "image/png": "[encoded data removed]",
      "text/plain": [
       "<Figure size 432x288 with 1 Axes>"
      ]
     },
     "metadata": {
      "needs_background": "light"
     },
     "output_type": "display_data"
    }
   ],
   "source": [
    "p = charts_df[charts_df[\"song\"] == \"Old Town Road\"].set_index(\"date\")[\"rank\"].plot()\n",
    "p.invert_yaxis()"
   ]
  },
  {
   "cell_type": "code",
   "execution_count": null,
   "id": "50856af1-44c8-47e8-a2dd-a9c7549b7bec",
   "metadata": {},
   "outputs": [],
   "source": []
  }
 ],
 "metadata": {
  "kernelspec": {
   "display_name": "pythonPractice",
   "language": "python",
   "name": "pythonpractice"
  },
  "language_info": {
   "codemirror_mode": {
    "name": "ipython",
    "version": 3
   },
   "file_extension": ".py",
   "mimetype": "text/x-python",
   "name": "python",
   "nbconvert_exporter": "python",
   "pygments_lexer": "ipython3",
   "version": "3.8.13"
  }
 },
 "nbformat": 4,
 "nbformat_minor": 5
}
