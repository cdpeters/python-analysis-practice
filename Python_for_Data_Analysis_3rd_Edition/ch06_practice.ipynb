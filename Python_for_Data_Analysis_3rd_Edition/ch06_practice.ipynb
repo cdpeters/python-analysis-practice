{
 "cells": [
  {
   "cell_type": "code",
   "execution_count": 1,
   "id": "7c14f56c-2484-423a-9855-b5d3faca6a33",
   "metadata": {},
   "outputs": [],
   "source": [
    "import csv\n",
    "import numpy as np\n",
    "import pandas as pd"
   ]
  },
  {
   "cell_type": "code",
   "execution_count": 5,
   "id": "696f5a50-6f11-4761-9723-f58c21884b05",
   "metadata": {},
   "outputs": [],
   "source": [
    "with open(\"pydata-book-3rd-edition/examples/ex7.csv\") as f:\n",
    "    lines = list(csv.reader(f))"
   ]
  },
  {
   "cell_type": "code",
   "execution_count": 6,
   "id": "12f86c04-bbad-4ee0-bc78-24f147b509dc",
   "metadata": {},
   "outputs": [
    {
     "data": {
      "text/plain": [
       "[['a', 'b', 'c'], ['1', '2', '3'], ['1', '2', '3']]"
      ]
     },
     "execution_count": 6,
     "metadata": {},
     "output_type": "execute_result"
    }
   ],
   "source": [
    "lines"
   ]
  },
  {
   "cell_type": "code",
   "execution_count": 8,
   "id": "8ce1b616-bba1-4892-9fbf-aae5e9833a64",
   "metadata": {},
   "outputs": [],
   "source": [
    "header, values = lines[0], lines[1:]"
   ]
  },
  {
   "cell_type": "code",
   "execution_count": 9,
   "id": "0f3181ca-59b0-4252-b440-ecf66c93048e",
   "metadata": {},
   "outputs": [
    {
     "data": {
      "text/plain": [
       "['a', 'b', 'c']"
      ]
     },
     "execution_count": 9,
     "metadata": {},
     "output_type": "execute_result"
    }
   ],
   "source": [
    "header"
   ]
  },
  {
   "cell_type": "code",
   "execution_count": 10,
   "id": "429f937b-9e86-4b63-9909-6206f8f06087",
   "metadata": {},
   "outputs": [
    {
     "data": {
      "text/plain": [
       "[['1', '2', '3'], ['1', '2', '3']]"
      ]
     },
     "execution_count": 10,
     "metadata": {},
     "output_type": "execute_result"
    }
   ],
   "source": [
    "values"
   ]
  },
  {
   "cell_type": "code",
   "execution_count": 2,
   "id": "5332b385-c839-404e-8488-f764947f9d70",
   "metadata": {},
   "outputs": [],
   "source": [
    "frame = pd.DataFrame({\"a\": np.random.standard_normal(100)})"
   ]
  },
  {
   "cell_type": "code",
   "execution_count": 3,
   "id": "5546644a-ea0e-4081-ae9a-72e89f6f33e8",
   "metadata": {},
   "outputs": [
    {
     "data": {
      "text/html": [
       "<div>\n",
       "<style scoped>\n",
       "    .dataframe tbody tr th:only-of-type {\n",
       "        vertical-align: middle;\n",
       "    }\n",
       "\n",
       "    .dataframe tbody tr th {\n",
       "        vertical-align: top;\n",
       "    }\n",
       "\n",
       "    .dataframe thead th {\n",
       "        text-align: right;\n",
       "    }\n",
       "</style>\n",
       "<table border=\"1\" class=\"dataframe\">\n",
       "  <thead>\n",
       "    <tr style=\"text-align: right;\">\n",
       "      <th></th>\n",
       "      <th>a</th>\n",
       "    </tr>\n",
       "  </thead>\n",
       "  <tbody>\n",
       "    <tr>\n",
       "      <th>0</th>\n",
       "      <td>-0.722791</td>\n",
       "    </tr>\n",
       "    <tr>\n",
       "      <th>1</th>\n",
       "      <td>0.367224</td>\n",
       "    </tr>\n",
       "    <tr>\n",
       "      <th>2</th>\n",
       "      <td>0.162618</td>\n",
       "    </tr>\n",
       "    <tr>\n",
       "      <th>3</th>\n",
       "      <td>0.616882</td>\n",
       "    </tr>\n",
       "    <tr>\n",
       "      <th>4</th>\n",
       "      <td>-1.574684</td>\n",
       "    </tr>\n",
       "    <tr>\n",
       "      <th>...</th>\n",
       "      <td>...</td>\n",
       "    </tr>\n",
       "    <tr>\n",
       "      <th>95</th>\n",
       "      <td>0.210163</td>\n",
       "    </tr>\n",
       "    <tr>\n",
       "      <th>96</th>\n",
       "      <td>0.663064</td>\n",
       "    </tr>\n",
       "    <tr>\n",
       "      <th>97</th>\n",
       "      <td>0.291833</td>\n",
       "    </tr>\n",
       "    <tr>\n",
       "      <th>98</th>\n",
       "      <td>-0.420905</td>\n",
       "    </tr>\n",
       "    <tr>\n",
       "      <th>99</th>\n",
       "      <td>-1.783422</td>\n",
       "    </tr>\n",
       "  </tbody>\n",
       "</table>\n",
       "<p>100 rows × 1 columns</p>\n",
       "</div>"
      ],
      "text/plain": [
       "           a\n",
       "0  -0.722791\n",
       "1   0.367224\n",
       "2   0.162618\n",
       "3   0.616882\n",
       "4  -1.574684\n",
       "..       ...\n",
       "95  0.210163\n",
       "96  0.663064\n",
       "97  0.291833\n",
       "98 -0.420905\n",
       "99 -1.783422\n",
       "\n",
       "[100 rows x 1 columns]"
      ]
     },
     "execution_count": 3,
     "metadata": {},
     "output_type": "execute_result"
    }
   ],
   "source": [
    "frame"
   ]
  },
  {
   "cell_type": "code",
   "execution_count": 4,
   "id": "8cc593b1-9a39-445c-8cbd-e0c498686ad8",
   "metadata": {},
   "outputs": [],
   "source": [
    "store = pd.HDFStore(\"mydata.h5\")"
   ]
  },
  {
   "cell_type": "code",
   "execution_count": 5,
   "id": "c86a46a6-80bf-4dc0-a504-263b25da204b",
   "metadata": {},
   "outputs": [],
   "source": [
    "store[\"obj1\"] = frame"
   ]
  },
  {
   "cell_type": "code",
   "execution_count": 6,
   "id": "9201e487-15eb-48f4-8a14-d33944f44d11",
   "metadata": {},
   "outputs": [],
   "source": [
    "store[\"obj1_col\"] = frame[\"a\"]"
   ]
  },
  {
   "cell_type": "code",
   "execution_count": 7,
   "id": "46a60286-a318-4e37-b94d-247bf6b57475",
   "metadata": {},
   "outputs": [
    {
     "data": {
      "text/plain": [
       "<class 'pandas.io.pytables.HDFStore'>\n",
       "File path: mydata.h5"
      ]
     },
     "execution_count": 7,
     "metadata": {},
     "output_type": "execute_result"
    }
   ],
   "source": [
    "store"
   ]
  },
  {
   "cell_type": "code",
   "execution_count": 10,
   "id": "1948abf8-e970-4da1-b98c-2a063a3229c0",
   "metadata": {},
   "outputs": [
    {
     "data": {
      "text/plain": [
       "pandas.core.frame.DataFrame"
      ]
     },
     "execution_count": 10,
     "metadata": {},
     "output_type": "execute_result"
    }
   ],
   "source": [
    "type(store[\"obj1\"])"
   ]
  },
  {
   "cell_type": "code",
   "execution_count": 12,
   "id": "cec995cf-4b7d-4014-8468-5a326bd9484f",
   "metadata": {},
   "outputs": [
    {
     "data": {
      "text/plain": [
       "pandas.core.series.Series"
      ]
     },
     "execution_count": 12,
     "metadata": {},
     "output_type": "execute_result"
    }
   ],
   "source": [
    "type(store[\"obj1_col\"])"
   ]
  },
  {
   "cell_type": "code",
   "execution_count": null,
   "id": "f04ce0e2-65e3-4ab5-ac10-9aec22a4f380",
   "metadata": {},
   "outputs": [],
   "source": []
  }
 ],
 "metadata": {
  "kernelspec": {
   "display_name": "pydata",
   "language": "python",
   "name": "pydata"
  },
  "language_info": {
   "codemirror_mode": {
    "name": "ipython",
    "version": 3
   },
   "file_extension": ".py",
   "mimetype": "text/x-python",
   "name": "python",
   "nbconvert_exporter": "python",
   "pygments_lexer": "ipython3",
   "version": "3.10.4"
  }
 },
 "nbformat": 4,
 "nbformat_minor": 5
}
