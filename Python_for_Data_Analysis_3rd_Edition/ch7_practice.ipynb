{
 "cells": [
  {
   "cell_type": "code",
   "execution_count": 1,
   "id": "af5d469a-1732-48b4-8133-b2b03840b5e9",
   "metadata": {},
   "outputs": [],
   "source": [
    "import csv\n",
    "import re\n",
    "\n",
    "import numpy as np\n",
    "import pandas as pd"
   ]
  },
  {
   "cell_type": "code",
   "execution_count": 3,
   "id": "0ae87fc9-4756-4767-8495-3369b8607280",
   "metadata": {},
   "outputs": [],
   "source": [
    "df = pd.DataFrame(np.random.standard_normal((6, 3)))"
   ]
  },
  {
   "cell_type": "code",
   "execution_count": 4,
   "id": "d42e9c2f-7bcd-4cd9-80d9-94d215f91b20",
   "metadata": {},
   "outputs": [],
   "source": [
    "df.iloc[2:, 1] = np.nan"
   ]
  },
  {
   "cell_type": "code",
   "execution_count": 5,
   "id": "1effba13-fe49-4c1d-bed4-d7faa97eea34",
   "metadata": {},
   "outputs": [],
   "source": [
    "df.iloc[4:, 2] = np.nan"
   ]
  },
  {
   "cell_type": "code",
   "execution_count": 6,
   "id": "52ff83ae-1ed1-4cd0-8266-1e28a1b13d94",
   "metadata": {},
   "outputs": [
    {
     "data": {
      "text/html": [
       "<div>\n",
       "<style scoped>\n",
       "    .dataframe tbody tr th:only-of-type {\n",
       "        vertical-align: middle;\n",
       "    }\n",
       "\n",
       "    .dataframe tbody tr th {\n",
       "        vertical-align: top;\n",
       "    }\n",
       "\n",
       "    .dataframe thead th {\n",
       "        text-align: right;\n",
       "    }\n",
       "</style>\n",
       "<table border=\"1\" class=\"dataframe\">\n",
       "  <thead>\n",
       "    <tr style=\"text-align: right;\">\n",
       "      <th></th>\n",
       "      <th>0</th>\n",
       "      <th>1</th>\n",
       "      <th>2</th>\n",
       "    </tr>\n",
       "  </thead>\n",
       "  <tbody>\n",
       "    <tr>\n",
       "      <th>0</th>\n",
       "      <td>-0.511687</td>\n",
       "      <td>-1.372841</td>\n",
       "      <td>-0.202620</td>\n",
       "    </tr>\n",
       "    <tr>\n",
       "      <th>1</th>\n",
       "      <td>0.600023</td>\n",
       "      <td>0.010180</td>\n",
       "      <td>1.492413</td>\n",
       "    </tr>\n",
       "    <tr>\n",
       "      <th>2</th>\n",
       "      <td>-0.552378</td>\n",
       "      <td>NaN</td>\n",
       "      <td>-0.547733</td>\n",
       "    </tr>\n",
       "    <tr>\n",
       "      <th>3</th>\n",
       "      <td>0.375947</td>\n",
       "      <td>NaN</td>\n",
       "      <td>-0.206487</td>\n",
       "    </tr>\n",
       "    <tr>\n",
       "      <th>4</th>\n",
       "      <td>1.367625</td>\n",
       "      <td>NaN</td>\n",
       "      <td>NaN</td>\n",
       "    </tr>\n",
       "    <tr>\n",
       "      <th>5</th>\n",
       "      <td>-2.240437</td>\n",
       "      <td>NaN</td>\n",
       "      <td>NaN</td>\n",
       "    </tr>\n",
       "  </tbody>\n",
       "</table>\n",
       "</div>"
      ],
      "text/plain": [
       "          0         1         2\n",
       "0 -0.511687 -1.372841 -0.202620\n",
       "1  0.600023  0.010180  1.492413\n",
       "2 -0.552378       NaN -0.547733\n",
       "3  0.375947       NaN -0.206487\n",
       "4  1.367625       NaN       NaN\n",
       "5 -2.240437       NaN       NaN"
      ]
     },
     "execution_count": 6,
     "metadata": {},
     "output_type": "execute_result"
    }
   ],
   "source": [
    "df"
   ]
  },
  {
   "cell_type": "code",
   "execution_count": 7,
   "id": "ddfac5f3-1076-4eb2-8cd7-f96bd6f7131d",
   "metadata": {},
   "outputs": [
    {
     "data": {
      "text/html": [
       "<div>\n",
       "<style scoped>\n",
       "    .dataframe tbody tr th:only-of-type {\n",
       "        vertical-align: middle;\n",
       "    }\n",
       "\n",
       "    .dataframe tbody tr th {\n",
       "        vertical-align: top;\n",
       "    }\n",
       "\n",
       "    .dataframe thead th {\n",
       "        text-align: right;\n",
       "    }\n",
       "</style>\n",
       "<table border=\"1\" class=\"dataframe\">\n",
       "  <thead>\n",
       "    <tr style=\"text-align: right;\">\n",
       "      <th></th>\n",
       "      <th>0</th>\n",
       "      <th>1</th>\n",
       "      <th>2</th>\n",
       "    </tr>\n",
       "  </thead>\n",
       "  <tbody>\n",
       "    <tr>\n",
       "      <th>0</th>\n",
       "      <td>-0.511687</td>\n",
       "      <td>-1.372841</td>\n",
       "      <td>-0.202620</td>\n",
       "    </tr>\n",
       "    <tr>\n",
       "      <th>1</th>\n",
       "      <td>0.600023</td>\n",
       "      <td>0.010180</td>\n",
       "      <td>1.492413</td>\n",
       "    </tr>\n",
       "    <tr>\n",
       "      <th>2</th>\n",
       "      <td>-0.552378</td>\n",
       "      <td>0.010180</td>\n",
       "      <td>-0.547733</td>\n",
       "    </tr>\n",
       "    <tr>\n",
       "      <th>3</th>\n",
       "      <td>0.375947</td>\n",
       "      <td>0.010180</td>\n",
       "      <td>-0.206487</td>\n",
       "    </tr>\n",
       "    <tr>\n",
       "      <th>4</th>\n",
       "      <td>1.367625</td>\n",
       "      <td>0.010180</td>\n",
       "      <td>-0.206487</td>\n",
       "    </tr>\n",
       "    <tr>\n",
       "      <th>5</th>\n",
       "      <td>-2.240437</td>\n",
       "      <td>0.010180</td>\n",
       "      <td>-0.206487</td>\n",
       "    </tr>\n",
       "  </tbody>\n",
       "</table>\n",
       "</div>"
      ],
      "text/plain": [
       "          0         1         2\n",
       "0 -0.511687 -1.372841 -0.202620\n",
       "1  0.600023  0.010180  1.492413\n",
       "2 -0.552378  0.010180 -0.547733\n",
       "3  0.375947  0.010180 -0.206487\n",
       "4  1.367625  0.010180 -0.206487\n",
       "5 -2.240437  0.010180 -0.206487"
      ]
     },
     "execution_count": 7,
     "metadata": {},
     "output_type": "execute_result"
    }
   ],
   "source": [
    "df.fillna(method=\"ffill\")"
   ]
  },
  {
   "cell_type": "code",
   "execution_count": 8,
   "id": "749dfa8e-cf6c-4768-8bc3-c0771c8f2d73",
   "metadata": {},
   "outputs": [
    {
     "data": {
      "text/html": [
       "<div>\n",
       "<style scoped>\n",
       "    .dataframe tbody tr th:only-of-type {\n",
       "        vertical-align: middle;\n",
       "    }\n",
       "\n",
       "    .dataframe tbody tr th {\n",
       "        vertical-align: top;\n",
       "    }\n",
       "\n",
       "    .dataframe thead th {\n",
       "        text-align: right;\n",
       "    }\n",
       "</style>\n",
       "<table border=\"1\" class=\"dataframe\">\n",
       "  <thead>\n",
       "    <tr style=\"text-align: right;\">\n",
       "      <th></th>\n",
       "      <th>0</th>\n",
       "      <th>1</th>\n",
       "      <th>2</th>\n",
       "    </tr>\n",
       "  </thead>\n",
       "  <tbody>\n",
       "    <tr>\n",
       "      <th>0</th>\n",
       "      <td>-0.511687</td>\n",
       "      <td>-1.372841</td>\n",
       "      <td>-0.202620</td>\n",
       "    </tr>\n",
       "    <tr>\n",
       "      <th>1</th>\n",
       "      <td>0.600023</td>\n",
       "      <td>0.010180</td>\n",
       "      <td>1.492413</td>\n",
       "    </tr>\n",
       "    <tr>\n",
       "      <th>2</th>\n",
       "      <td>-0.552378</td>\n",
       "      <td>NaN</td>\n",
       "      <td>-0.547733</td>\n",
       "    </tr>\n",
       "    <tr>\n",
       "      <th>3</th>\n",
       "      <td>0.375947</td>\n",
       "      <td>NaN</td>\n",
       "      <td>-0.206487</td>\n",
       "    </tr>\n",
       "    <tr>\n",
       "      <th>4</th>\n",
       "      <td>1.367625</td>\n",
       "      <td>NaN</td>\n",
       "      <td>NaN</td>\n",
       "    </tr>\n",
       "    <tr>\n",
       "      <th>5</th>\n",
       "      <td>-2.240437</td>\n",
       "      <td>NaN</td>\n",
       "      <td>NaN</td>\n",
       "    </tr>\n",
       "  </tbody>\n",
       "</table>\n",
       "</div>"
      ],
      "text/plain": [
       "          0         1         2\n",
       "0 -0.511687 -1.372841 -0.202620\n",
       "1  0.600023  0.010180  1.492413\n",
       "2 -0.552378       NaN -0.547733\n",
       "3  0.375947       NaN -0.206487\n",
       "4  1.367625       NaN       NaN\n",
       "5 -2.240437       NaN       NaN"
      ]
     },
     "execution_count": 8,
     "metadata": {},
     "output_type": "execute_result"
    }
   ],
   "source": [
    "df"
   ]
  },
  {
   "cell_type": "code",
   "execution_count": 9,
   "id": "c64e68a9-3200-409b-8cba-a39fcdd7b452",
   "metadata": {},
   "outputs": [
    {
     "data": {
      "text/html": [
       "<div>\n",
       "<style scoped>\n",
       "    .dataframe tbody tr th:only-of-type {\n",
       "        vertical-align: middle;\n",
       "    }\n",
       "\n",
       "    .dataframe tbody tr th {\n",
       "        vertical-align: top;\n",
       "    }\n",
       "\n",
       "    .dataframe thead th {\n",
       "        text-align: right;\n",
       "    }\n",
       "</style>\n",
       "<table border=\"1\" class=\"dataframe\">\n",
       "  <thead>\n",
       "    <tr style=\"text-align: right;\">\n",
       "      <th></th>\n",
       "      <th>0</th>\n",
       "      <th>1</th>\n",
       "      <th>2</th>\n",
       "    </tr>\n",
       "  </thead>\n",
       "  <tbody>\n",
       "    <tr>\n",
       "      <th>0</th>\n",
       "      <td>-0.511687</td>\n",
       "      <td>-1.372841</td>\n",
       "      <td>-0.202620</td>\n",
       "    </tr>\n",
       "    <tr>\n",
       "      <th>1</th>\n",
       "      <td>0.600023</td>\n",
       "      <td>0.010180</td>\n",
       "      <td>1.492413</td>\n",
       "    </tr>\n",
       "    <tr>\n",
       "      <th>2</th>\n",
       "      <td>-0.552378</td>\n",
       "      <td>-0.552378</td>\n",
       "      <td>-0.547733</td>\n",
       "    </tr>\n",
       "    <tr>\n",
       "      <th>3</th>\n",
       "      <td>0.375947</td>\n",
       "      <td>0.375947</td>\n",
       "      <td>-0.206487</td>\n",
       "    </tr>\n",
       "    <tr>\n",
       "      <th>4</th>\n",
       "      <td>1.367625</td>\n",
       "      <td>1.367625</td>\n",
       "      <td>1.367625</td>\n",
       "    </tr>\n",
       "    <tr>\n",
       "      <th>5</th>\n",
       "      <td>-2.240437</td>\n",
       "      <td>-2.240437</td>\n",
       "      <td>-2.240437</td>\n",
       "    </tr>\n",
       "  </tbody>\n",
       "</table>\n",
       "</div>"
      ],
      "text/plain": [
       "          0         1         2\n",
       "0 -0.511687 -1.372841 -0.202620\n",
       "1  0.600023  0.010180  1.492413\n",
       "2 -0.552378 -0.552378 -0.547733\n",
       "3  0.375947  0.375947 -0.206487\n",
       "4  1.367625  1.367625  1.367625\n",
       "5 -2.240437 -2.240437 -2.240437"
      ]
     },
     "execution_count": 9,
     "metadata": {},
     "output_type": "execute_result"
    }
   ],
   "source": [
    "df.fillna(method=\"ffill\", axis=\"columns\")"
   ]
  },
  {
   "cell_type": "code",
   "execution_count": 2,
   "id": "feec9648-33f2-49d1-940f-75cdd55251f7",
   "metadata": {},
   "outputs": [],
   "source": [
    "data = pd.DataFrame(np.random.standard_normal((1000, 4)))"
   ]
  },
  {
   "cell_type": "code",
   "execution_count": 3,
   "id": "e3e3edba-2f0d-4cf9-b7d0-18841aae7014",
   "metadata": {},
   "outputs": [
    {
     "data": {
      "text/html": [
       "<div>\n",
       "<style scoped>\n",
       "    .dataframe tbody tr th:only-of-type {\n",
       "        vertical-align: middle;\n",
       "    }\n",
       "\n",
       "    .dataframe tbody tr th {\n",
       "        vertical-align: top;\n",
       "    }\n",
       "\n",
       "    .dataframe thead th {\n",
       "        text-align: right;\n",
       "    }\n",
       "</style>\n",
       "<table border=\"1\" class=\"dataframe\">\n",
       "  <thead>\n",
       "    <tr style=\"text-align: right;\">\n",
       "      <th></th>\n",
       "      <th>0</th>\n",
       "      <th>1</th>\n",
       "      <th>2</th>\n",
       "      <th>3</th>\n",
       "    </tr>\n",
       "  </thead>\n",
       "  <tbody>\n",
       "    <tr>\n",
       "      <th>0</th>\n",
       "      <td>-2.257305</td>\n",
       "      <td>-1.308817</td>\n",
       "      <td>0.311177</td>\n",
       "      <td>-0.202300</td>\n",
       "    </tr>\n",
       "    <tr>\n",
       "      <th>1</th>\n",
       "      <td>-1.097795</td>\n",
       "      <td>-0.729065</td>\n",
       "      <td>-0.716832</td>\n",
       "      <td>0.455603</td>\n",
       "    </tr>\n",
       "    <tr>\n",
       "      <th>2</th>\n",
       "      <td>-0.769573</td>\n",
       "      <td>-1.585383</td>\n",
       "      <td>-0.080424</td>\n",
       "      <td>1.109786</td>\n",
       "    </tr>\n",
       "    <tr>\n",
       "      <th>3</th>\n",
       "      <td>-1.433135</td>\n",
       "      <td>-1.665224</td>\n",
       "      <td>0.327516</td>\n",
       "      <td>0.029996</td>\n",
       "    </tr>\n",
       "    <tr>\n",
       "      <th>4</th>\n",
       "      <td>1.622097</td>\n",
       "      <td>0.575633</td>\n",
       "      <td>1.091361</td>\n",
       "      <td>0.720993</td>\n",
       "    </tr>\n",
       "    <tr>\n",
       "      <th>...</th>\n",
       "      <td>...</td>\n",
       "      <td>...</td>\n",
       "      <td>...</td>\n",
       "      <td>...</td>\n",
       "    </tr>\n",
       "    <tr>\n",
       "      <th>995</th>\n",
       "      <td>-2.621759</td>\n",
       "      <td>-0.100597</td>\n",
       "      <td>0.711006</td>\n",
       "      <td>-1.445024</td>\n",
       "    </tr>\n",
       "    <tr>\n",
       "      <th>996</th>\n",
       "      <td>0.818218</td>\n",
       "      <td>0.275038</td>\n",
       "      <td>0.214087</td>\n",
       "      <td>2.282824</td>\n",
       "    </tr>\n",
       "    <tr>\n",
       "      <th>997</th>\n",
       "      <td>0.044944</td>\n",
       "      <td>-0.345687</td>\n",
       "      <td>0.975721</td>\n",
       "      <td>0.467557</td>\n",
       "    </tr>\n",
       "    <tr>\n",
       "      <th>998</th>\n",
       "      <td>-0.245695</td>\n",
       "      <td>-0.059463</td>\n",
       "      <td>1.099623</td>\n",
       "      <td>-1.000808</td>\n",
       "    </tr>\n",
       "    <tr>\n",
       "      <th>999</th>\n",
       "      <td>-0.255375</td>\n",
       "      <td>-1.271038</td>\n",
       "      <td>1.951080</td>\n",
       "      <td>-0.148436</td>\n",
       "    </tr>\n",
       "  </tbody>\n",
       "</table>\n",
       "<p>1000 rows × 4 columns</p>\n",
       "</div>"
      ],
      "text/plain": [
       "            0         1         2         3\n",
       "0   -2.257305 -1.308817  0.311177 -0.202300\n",
       "1   -1.097795 -0.729065 -0.716832  0.455603\n",
       "2   -0.769573 -1.585383 -0.080424  1.109786\n",
       "3   -1.433135 -1.665224  0.327516  0.029996\n",
       "4    1.622097  0.575633  1.091361  0.720993\n",
       "..        ...       ...       ...       ...\n",
       "995 -2.621759 -0.100597  0.711006 -1.445024\n",
       "996  0.818218  0.275038  0.214087  2.282824\n",
       "997  0.044944 -0.345687  0.975721  0.467557\n",
       "998 -0.245695 -0.059463  1.099623 -1.000808\n",
       "999 -0.255375 -1.271038  1.951080 -0.148436\n",
       "\n",
       "[1000 rows x 4 columns]"
      ]
     },
     "execution_count": 3,
     "metadata": {},
     "output_type": "execute_result"
    }
   ],
   "source": [
    "data"
   ]
  },
  {
   "cell_type": "code",
   "execution_count": 6,
   "id": "3329abfa-847c-4c07-8593-a3a4f3c1d885",
   "metadata": {},
   "outputs": [
    {
     "data": {
      "text/plain": [
       "pandas.core.frame.DataFrame"
      ]
     },
     "execution_count": 6,
     "metadata": {},
     "output_type": "execute_result"
    }
   ],
   "source": [
    "type(data.abs() > 3)"
   ]
  },
  {
   "cell_type": "code",
   "execution_count": 9,
   "id": "5f370952-e905-4934-8cfb-10738db94d09",
   "metadata": {},
   "outputs": [
    {
     "data": {
      "text/html": [
       "<div>\n",
       "<style scoped>\n",
       "    .dataframe tbody tr th:only-of-type {\n",
       "        vertical-align: middle;\n",
       "    }\n",
       "\n",
       "    .dataframe tbody tr th {\n",
       "        vertical-align: top;\n",
       "    }\n",
       "\n",
       "    .dataframe thead th {\n",
       "        text-align: right;\n",
       "    }\n",
       "</style>\n",
       "<table border=\"1\" class=\"dataframe\">\n",
       "  <thead>\n",
       "    <tr style=\"text-align: right;\">\n",
       "      <th></th>\n",
       "      <th>0</th>\n",
       "      <th>1</th>\n",
       "      <th>2</th>\n",
       "      <th>3</th>\n",
       "    </tr>\n",
       "  </thead>\n",
       "  <tbody>\n",
       "    <tr>\n",
       "      <th>603</th>\n",
       "      <td>0.485164</td>\n",
       "      <td>-0.09558</td>\n",
       "      <td>-0.689332</td>\n",
       "      <td>0.52437</td>\n",
       "    </tr>\n",
       "  </tbody>\n",
       "</table>\n",
       "</div>"
      ],
      "text/plain": [
       "            0        1         2        3\n",
       "603  0.485164 -0.09558 -0.689332  0.52437"
      ]
     },
     "execution_count": 9,
     "metadata": {},
     "output_type": "execute_result"
    }
   ],
   "source": [
    "data.sample()"
   ]
  },
  {
   "cell_type": "code",
   "execution_count": 2,
   "id": "7d8b35ba-6604-4f9c-b159-6bfb950083fc",
   "metadata": {},
   "outputs": [],
   "source": [
    "text = \"\"\"Dave dave@google.com\n",
    "Steve steve@gmail.com\n",
    "Rob rob@gmail.com\n",
    "Ryan ryan@yahoo.com\"\"\""
   ]
  },
  {
   "cell_type": "code",
   "execution_count": 3,
   "id": "74c8174a-856d-4471-a4ee-538e8fb145e2",
   "metadata": {},
   "outputs": [],
   "source": [
    "pattern = r\"([A-Z0-9._%+-]+)@([A-Z0-9.-]+)\\.([A-Z]{2,4})\""
   ]
  },
  {
   "cell_type": "code",
   "execution_count": 6,
   "id": "9acab555-c9f4-4f0c-8eb6-152652476f95",
   "metadata": {},
   "outputs": [],
   "source": [
    "regex = re.compile(pattern, flags=re.IGNORECASE)"
   ]
  },
  {
   "cell_type": "code",
   "execution_count": 8,
   "id": "68079672-63d7-4156-80be-d48cdbb31337",
   "metadata": {},
   "outputs": [
    {
     "data": {
      "text/plain": [
       "[('dave', 'google', 'com'),\n",
       " ('steve', 'gmail', 'com'),\n",
       " ('rob', 'gmail', 'com'),\n",
       " ('ryan', 'yahoo', 'com')]"
      ]
     },
     "execution_count": 8,
     "metadata": {},
     "output_type": "execute_result"
    }
   ],
   "source": [
    "regex.findall(text)"
   ]
  },
  {
   "cell_type": "code",
   "execution_count": 9,
   "id": "69e7f8a1-9c1f-4183-8410-7ad2d356502c",
   "metadata": {},
   "outputs": [
    {
     "data": {
      "text/plain": [
       "'Dave Username: dave, Domain: google, Suffix: com\\nSteve Username: steve, Domain: gmail, Suffix: com\\nRob Username: rob, Domain: gmail, Suffix: com\\nRyan Username: ryan, Domain: yahoo, Suffix: com'"
      ]
     },
     "execution_count": 9,
     "metadata": {},
     "output_type": "execute_result"
    }
   ],
   "source": [
    "regex.sub(r\"Username: \\1, Domain: \\2, Suffix: \\3\", text)"
   ]
  },
  {
   "cell_type": "code",
   "execution_count": 11,
   "id": "bce7a218-665c-41f2-96c6-d2f72cc005b4",
   "metadata": {},
   "outputs": [
    {
     "name": "stdout",
     "output_type": "stream",
     "text": [
      "Dave Username: dave, Domain: google, Suffix: com\n",
      "Steve Username: steve, Domain: gmail, Suffix: com\n",
      "Rob Username: rob, Domain: gmail, Suffix: com\n",
      "Ryan Username: ryan, Domain: yahoo, Suffix: com\n"
     ]
    }
   ],
   "source": [
    "print(regex.sub(r\"Username: \\1, Domain: \\2, Suffix: \\3\", text))"
   ]
  },
  {
   "cell_type": "code",
   "execution_count": 14,
   "id": "df28624c-0f59-481f-8f28-2119aaca8642",
   "metadata": {},
   "outputs": [],
   "source": [
    "data = {\n",
    "    \"Dave\": \"dave@google.com\",\n",
    "    \"Steve\": \"steve@gmail.com\",\n",
    "    \"Rob\": \"rob@gmail.com\",\n",
    "    \"Wes\": np.nan,\n",
    "}\n",
    "data = pd.Series(data)"
   ]
  },
  {
   "cell_type": "code",
   "execution_count": 15,
   "id": "48f5a81c-cb72-4cb7-bf76-49b00aeab764",
   "metadata": {},
   "outputs": [
    {
     "data": {
      "text/plain": [
       "Dave     dave@google.com\n",
       "Steve    steve@gmail.com\n",
       "Rob        rob@gmail.com\n",
       "Wes                  NaN\n",
       "dtype: object"
      ]
     },
     "execution_count": 15,
     "metadata": {},
     "output_type": "execute_result"
    }
   ],
   "source": [
    "data"
   ]
  },
  {
   "cell_type": "code",
   "execution_count": 29,
   "id": "068aacb7-88e1-4555-9824-986350d25c50",
   "metadata": {},
   "outputs": [
    {
     "data": {
      "text/plain": [
       "Dave     google\n",
       "Steve     gmail\n",
       "Rob       gmail\n",
       "Wes         NaN\n",
       "dtype: object"
      ]
     },
     "execution_count": 29,
     "metadata": {},
     "output_type": "execute_result"
    }
   ],
   "source": [
    "matches = data.str.findall(pattern, flags=re.IGNORECASE).str[0]\n",
    "matches.str.get(1)"
   ]
  },
  {
   "cell_type": "code",
   "execution_count": 2,
   "id": "4f3d99b3-95e2-422d-a1ee-187083d2a2e0",
   "metadata": {},
   "outputs": [
    {
     "data": {
      "text/html": [
       "<div>\n",
       "<style scoped>\n",
       "    .dataframe tbody tr th:only-of-type {\n",
       "        vertical-align: middle;\n",
       "    }\n",
       "\n",
       "    .dataframe tbody tr th {\n",
       "        vertical-align: top;\n",
       "    }\n",
       "\n",
       "    .dataframe thead th {\n",
       "        text-align: right;\n",
       "    }\n",
       "</style>\n",
       "<table border=\"1\" class=\"dataframe\">\n",
       "  <thead>\n",
       "    <tr style=\"text-align: right;\">\n",
       "      <th></th>\n",
       "      <th>basket_id</th>\n",
       "      <th>fruit</th>\n",
       "      <th>count</th>\n",
       "      <th>weight</th>\n",
       "    </tr>\n",
       "  </thead>\n",
       "  <tbody>\n",
       "    <tr>\n",
       "      <th>0</th>\n",
       "      <td>0</td>\n",
       "      <td>apple</td>\n",
       "      <td>11</td>\n",
       "      <td>1.564438</td>\n",
       "    </tr>\n",
       "    <tr>\n",
       "      <th>1</th>\n",
       "      <td>1</td>\n",
       "      <td>orange</td>\n",
       "      <td>5</td>\n",
       "      <td>1.331256</td>\n",
       "    </tr>\n",
       "    <tr>\n",
       "      <th>2</th>\n",
       "      <td>2</td>\n",
       "      <td>apple</td>\n",
       "      <td>12</td>\n",
       "      <td>2.393235</td>\n",
       "    </tr>\n",
       "    <tr>\n",
       "      <th>3</th>\n",
       "      <td>3</td>\n",
       "      <td>apple</td>\n",
       "      <td>6</td>\n",
       "      <td>0.746937</td>\n",
       "    </tr>\n",
       "    <tr>\n",
       "      <th>4</th>\n",
       "      <td>4</td>\n",
       "      <td>apple</td>\n",
       "      <td>5</td>\n",
       "      <td>2.691024</td>\n",
       "    </tr>\n",
       "    <tr>\n",
       "      <th>5</th>\n",
       "      <td>5</td>\n",
       "      <td>orange</td>\n",
       "      <td>12</td>\n",
       "      <td>3.767211</td>\n",
       "    </tr>\n",
       "    <tr>\n",
       "      <th>6</th>\n",
       "      <td>6</td>\n",
       "      <td>apple</td>\n",
       "      <td>10</td>\n",
       "      <td>0.992983</td>\n",
       "    </tr>\n",
       "    <tr>\n",
       "      <th>7</th>\n",
       "      <td>7</td>\n",
       "      <td>apple</td>\n",
       "      <td>11</td>\n",
       "      <td>3.795525</td>\n",
       "    </tr>\n",
       "  </tbody>\n",
       "</table>\n",
       "</div>"
      ],
      "text/plain": [
       "   basket_id   fruit  count    weight\n",
       "0          0   apple     11  1.564438\n",
       "1          1  orange      5  1.331256\n",
       "2          2   apple     12  2.393235\n",
       "3          3   apple      6  0.746937\n",
       "4          4   apple      5  2.691024\n",
       "5          5  orange     12  3.767211\n",
       "6          6   apple     10  0.992983\n",
       "7          7   apple     11  3.795525"
      ]
     },
     "execution_count": 2,
     "metadata": {},
     "output_type": "execute_result"
    }
   ],
   "source": [
    "fruits = [\"apple\", \"orange\", \"apple\", \"apple\"] * 2\n",
    "\n",
    "N = len(fruits)\n",
    "\n",
    "rng = np.random.default_rng(seed=12345)\n",
    "\n",
    "df = pd.DataFrame(\n",
    "    {\n",
    "        \"fruit\": fruits,\n",
    "        \"basket_id\": np.arange(N),\n",
    "        \"count\": rng.integers(3, 15, size=N),\n",
    "        \"weight\": rng.uniform(0, 4, size=N),\n",
    "    },\n",
    "    columns=[\"basket_id\", \"fruit\", \"count\", \"weight\"],\n",
    ")\n",
    "\n",
    "df"
   ]
  },
  {
   "cell_type": "code",
   "execution_count": 3,
   "id": "3bb59c59-7310-493b-92ac-24b70dcec60b",
   "metadata": {},
   "outputs": [
    {
     "data": {
      "text/plain": [
       "0     apple\n",
       "1    orange\n",
       "2     apple\n",
       "3     apple\n",
       "4     apple\n",
       "5    orange\n",
       "6     apple\n",
       "7     apple\n",
       "Name: fruit, dtype: category\n",
       "Categories (2, object): ['apple', 'orange']"
      ]
     },
     "execution_count": 3,
     "metadata": {},
     "output_type": "execute_result"
    }
   ],
   "source": [
    "fruit_cat = df['fruit'].astype('category')\n",
    "fruit_cat"
   ]
  },
  {
   "cell_type": "code",
   "execution_count": 6,
   "id": "c4e6ed32-f27d-40e4-85f6-a88f6849638e",
   "metadata": {},
   "outputs": [
    {
     "data": {
      "text/plain": [
       "pandas.core.series.Series"
      ]
     },
     "execution_count": 6,
     "metadata": {},
     "output_type": "execute_result"
    }
   ],
   "source": [
    "type(fruit_cat)"
   ]
  },
  {
   "cell_type": "code",
   "execution_count": 7,
   "id": "093cbb41-6f32-4002-a99e-e02a6ac9a7ec",
   "metadata": {},
   "outputs": [
    {
     "data": {
      "text/plain": [
       "pandas.core.arrays.categorical.Categorical"
      ]
     },
     "execution_count": 7,
     "metadata": {},
     "output_type": "execute_result"
    }
   ],
   "source": [
    "type(fruit_cat.array)"
   ]
  },
  {
   "cell_type": "code",
   "execution_count": 9,
   "id": "2ceff9cc-3e4f-417d-8105-fd72de647598",
   "metadata": {},
   "outputs": [
    {
     "data": {
      "text/plain": [
       "['apple', 'orange', 'apple', 'apple', 'apple', 'orange', 'apple', 'apple']\n",
       "Categories (2, object): ['apple', 'orange']"
      ]
     },
     "execution_count": 9,
     "metadata": {},
     "output_type": "execute_result"
    }
   ],
   "source": [
    "fruit_cat.array"
   ]
  },
  {
   "cell_type": "code",
   "execution_count": 11,
   "id": "991c6e15-dff6-4463-a050-235aba091bf8",
   "metadata": {},
   "outputs": [
    {
     "data": {
      "text/plain": [
       "pandas.core.indexes.base.Index"
      ]
     },
     "execution_count": 11,
     "metadata": {},
     "output_type": "execute_result"
    }
   ],
   "source": [
    "c = fruit_cat.array\n",
    "type(c.categories)"
   ]
  },
  {
   "cell_type": "code",
   "execution_count": 14,
   "id": "ad5ba6ae-0705-42e1-a964-cc26997c9c9a",
   "metadata": {},
   "outputs": [
    {
     "data": {
      "text/plain": [
       "Index(['apple', 'orange'], dtype='object')"
      ]
     },
     "execution_count": 14,
     "metadata": {},
     "output_type": "execute_result"
    }
   ],
   "source": [
    "c.categories"
   ]
  },
  {
   "cell_type": "code",
   "execution_count": 12,
   "id": "4210a995-f6fd-4899-ad86-1db2cc92af5b",
   "metadata": {},
   "outputs": [
    {
     "data": {
      "text/plain": [
       "numpy.ndarray"
      ]
     },
     "execution_count": 12,
     "metadata": {},
     "output_type": "execute_result"
    }
   ],
   "source": [
    "type(c.codes)"
   ]
  },
  {
   "cell_type": "code",
   "execution_count": 15,
   "id": "ce392843-e5b5-4c42-846c-b71db0f4dcf5",
   "metadata": {},
   "outputs": [
    {
     "data": {
      "text/plain": [
       "array([0, 1, 0, 0, 0, 1, 0, 0], dtype=int8)"
      ]
     },
     "execution_count": 15,
     "metadata": {},
     "output_type": "execute_result"
    }
   ],
   "source": [
    "c.codes"
   ]
  },
  {
   "cell_type": "code",
   "execution_count": 16,
   "id": "d2de7784-8de0-493e-a583-93178f2c36a8",
   "metadata": {},
   "outputs": [
    {
     "data": {
      "text/plain": [
       "CategoricalDtype(categories=['apple', 'orange'], ordered=False)"
      ]
     },
     "execution_count": 16,
     "metadata": {},
     "output_type": "execute_result"
    }
   ],
   "source": [
    "c.dtype"
   ]
  },
  {
   "cell_type": "code",
   "execution_count": null,
   "id": "2879845f-c5fa-46e1-9104-1c2ef8ab7fa3",
   "metadata": {},
   "outputs": [],
   "source": []
  }
 ],
 "metadata": {
  "kernelspec": {
   "display_name": "pydata",
   "language": "python",
   "name": "pydata"
  },
  "language_info": {
   "codemirror_mode": {
    "name": "ipython",
    "version": 3
   },
   "file_extension": ".py",
   "mimetype": "text/x-python",
   "name": "python",
   "nbconvert_exporter": "python",
   "pygments_lexer": "ipython3",
   "version": "3.10.4"
  }
 },
 "nbformat": 4,
 "nbformat_minor": 5
}
